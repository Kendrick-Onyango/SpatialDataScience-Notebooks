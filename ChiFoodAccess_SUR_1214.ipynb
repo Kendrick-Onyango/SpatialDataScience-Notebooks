{
 "cells": [
  {
   "cell_type": "markdown",
   "metadata": {},
   "source": [
    "# Food Acess Change in Chicago from 2011 to 2014\n",
    "\n",
    "See SUR documentation here: http://pysal.readthedocs.io/en/latest/library/spreg/sur.html\n"
   ]
  },
  {
   "cell_type": "markdown",
   "metadata": {},
   "source": [
    "### Open required libraries"
   ]
  },
  {
   "cell_type": "code",
   "execution_count": 37,
   "metadata": {
    "collapsed": true
   },
   "outputs": [],
   "source": [
    "import pysal"
   ]
  },
  {
   "cell_type": "markdown",
   "metadata": {},
   "source": [
    "### Open DBF file for Analysis"
   ]
  },
  {
   "cell_type": "code",
   "execution_count": 57,
   "metadata": {
    "collapsed": true
   },
   "outputs": [],
   "source": [
    "db = pysal.open(\"/Users/Masia/Desktop/FA_clip/FA_Panel_1214.dbf\")"
   ]
  },
  {
   "cell_type": "markdown",
   "metadata": {},
   "source": [
    "### Build Spatial Weight"
   ]
  },
  {
   "cell_type": "code",
   "execution_count": 58,
   "metadata": {
    "collapsed": true
   },
   "outputs": [],
   "source": [
    "## Queen-Contiguity Spatial Weight generated\n",
    "w = pysal.queen_from_shapefile(\"/Users/Masia/Desktop/FA_clip/FA_Panel_1214.shp\")\n",
    "w.transform='r'"
   ]
  },
  {
   "cell_type": "markdown",
   "metadata": {},
   "source": [
    "### Generate List of Variables"
   ]
  },
  {
   "cell_type": "code",
   "execution_count": 59,
   "metadata": {
    "collapsed": false
   },
   "outputs": [],
   "source": [
    "## Census Tract Average Network Distance Miles to Supermarkets \n",
    "y_var = ['MEANMI_11','MEANMI_14']\n",
    "\n",
    "## Potential explanatory variables: Population, White%, Black%, Hispanic$, Unemployed,\n",
    "## Childhood Poverty%, Overall Poverty%\n",
    "x_var=[['Pop2012','Pop2014'],['Wht12P','Wht14P'],['Blk12P','Blk14P'],\n",
    "       ['Hisp12P','Hisp14P'],['UnEmpl12','UnEmpl14'],['ChldPvty12','ChldPvty14'],['PvtyPrc12','PvtyPrc14']]"
   ]
  },
  {
   "cell_type": "markdown",
   "metadata": {},
   "source": [
    "### Build Variable Dictionaries"
   ]
  },
  {
   "cell_type": "code",
   "execution_count": 60,
   "metadata": {
    "collapsed": false
   },
   "outputs": [
    {
     "name": "stdout",
     "output_type": "stream",
     "text": [
      "Error: mismatch variable lists\n"
     ]
    }
   ],
   "source": [
    "bigy,bigX,bigyvars,bigXvars = pysal.spreg.sur_utils.sur_dictxy(db,y_var,x_var)"
   ]
  },
  {
   "cell_type": "code",
   "execution_count": 61,
   "metadata": {
    "collapsed": true
   },
   "outputs": [],
   "source": [
    "x_var1=[['Wht12P','Wht14P'],['Blk12P','Blk14P']]\n",
    "bigy,bigX,bigyvars,bigXvars = pysal.spreg.sur_utils.sur_dictxy(db,y_var,x_var1)"
   ]
  },
  {
   "cell_type": "code",
   "execution_count": 65,
   "metadata": {
    "collapsed": true
   },
   "outputs": [],
   "source": [
    "x_var2=[['Pop2012','Pop2014'],['Blk12P','Blk14P']]\n",
    "bigy,bigX,bigyvars,bigXvars = pysal.spreg.sur_utils.sur_dictxy(db,y_var,x_var2)"
   ]
  },
  {
   "cell_type": "code",
   "execution_count": 63,
   "metadata": {
    "collapsed": false
   },
   "outputs": [
    {
     "name": "stdout",
     "output_type": "stream",
     "text": [
      "Error: mismatch variable lists\n"
     ]
    }
   ],
   "source": [
    "x_var3=[['Pop2012','Pop2014'],['Wht12P','Wht14P'],['Blk12P','Blk14P']]\n",
    "bigy,bigX,bigyvars,bigXvars = pysal.spreg.sur_utils.sur_dictxy(db,y_var,x_var3)"
   ]
  },
  {
   "cell_type": "markdown",
   "metadata": {},
   "source": [
    "### Run SUR Regressions"
   ]
  },
  {
   "cell_type": "code",
   "execution_count": 66,
   "metadata": {
    "collapsed": false
   },
   "outputs": [
    {
     "name": "stdout",
     "output_type": "stream",
     "text": [
      "REGRESSION\n",
      "----------\n",
      "SUMMARY OF OUTPUT: SEEMINGLY UNRELATED REGRESSIONS (SUR)\n",
      "--------------------------------------------------------\n",
      "Data set            :         nat\n",
      "Weights matrix      :<pysal.weights.weights.W object at 0x10dad8490>\n",
      "Number of Equations :           2                Number of Observations:         791\n",
      "Log likelihood (SUR):    -833.293                Number of Iterations  :           1\n",
      "----------\n",
      "\n",
      "SUMMARY OF EQUATION 1\n",
      "---------------------\n",
      "Dependent Variable  :   MEANMI_11                Number of Variables   :           3\n",
      "Mean dependent var  :      0.8693                Degrees of Freedom    :         788\n",
      "S.D. dependent var  :      0.5411\n",
      "\n",
      "------------------------------------------------------------------------------------\n",
      "            Variable     Coefficient       Std.Error     z-Statistic     Probability\n",
      "------------------------------------------------------------------------------------\n",
      "          Constant_1       0.9378475       0.0357970      26.1990578       0.0000000\n",
      "             Pop2012      -0.0000235       0.0000152      -1.5454675       0.1222332\n",
      "             Pop2014       0.0000032       0.0000142       0.2267011       0.8206562\n",
      "------------------------------------------------------------------------------------\n",
      "\n",
      "SUMMARY OF EQUATION 2\n",
      "---------------------\n",
      "Dependent Variable  :   MEANMI_14                Number of Variables   :           3\n",
      "Mean dependent var  :      0.8202                Degrees of Freedom    :         788\n",
      "S.D. dependent var  :      0.4733\n",
      "\n",
      "------------------------------------------------------------------------------------\n",
      "            Variable     Coefficient       Std.Error     z-Statistic     Probability\n",
      "------------------------------------------------------------------------------------\n",
      "          Constant_2       0.7191222       0.0181009      39.7285336       0.0000000\n",
      "              Blk12P       0.0016711       0.0005417       3.0851264       0.0020347\n",
      "              Blk14P       0.0011346       0.0005672       2.0002579       0.0454724\n",
      "------------------------------------------------------------------------------------\n",
      "\n",
      "\n",
      "REGRESSION DIAGNOSTICS\n",
      "                                     TEST         DF       VALUE           PROB\n",
      "                         LM test on Sigma         1      342.036           0.0000\n",
      "                         LR test on Sigma         1      447.986           0.0000\n",
      "\n",
      "OTHER DIAGNOSTICS - CHOW TEST\n",
      "                                VARIABLES         DF       VALUE           PROB\n",
      "                   Constant_1, Constant_2         1       35.935           0.0000\n",
      "                          Pop2012, Blk12P         1        9.615           0.0019\n",
      "                          Pop2014, Blk14P         1        3.911           0.0480\n",
      "\n",
      "DIAGNOSTICS FOR SPATIAL DEPENDENCE\n",
      "TEST                              DF       VALUE           PROB\n",
      "Lagrange Multiplier (error)       2        2075.254        0.0000\n",
      "\n",
      "ERROR CORRELATION MATRIX\n",
      "  EQUATION 1  EQUATION 2\n",
      "    1.000000    0.657578\n",
      "    0.657578    1.000000\n",
      "================================ END OF REPORT =====================================\n"
     ]
    }
   ],
   "source": [
    "## The following doesn't work, though is in the existing documentation:\n",
    "## reg = SUR(bigy,bigX,w=w,name_bigy=bigyvars,name_bigX=bigXvars,spat_diag=True,name_ds=\"nat\")\n",
    "\n",
    "reg = pysal.spreg.sur.SUR(bigy,bigX,w=w,name_bigy=bigyvars,name_bigX=bigXvars,\n",
    "                          spat_diag=True,name_ds=\"nat\",name_w=w)\n",
    "\n",
    "print(reg.summary)"
   ]
  }
 ],
 "metadata": {
  "kernelspec": {
   "display_name": "Python 2",
   "language": "python",
   "name": "python2"
  },
  "language_info": {
   "codemirror_mode": {
    "name": "ipython",
    "version": 2
   },
   "file_extension": ".py",
   "mimetype": "text/x-python",
   "name": "python",
   "nbconvert_exporter": "python",
   "pygments_lexer": "ipython2",
   "version": "2.7.11"
  }
 },
 "nbformat": 4,
 "nbformat_minor": 0
}
