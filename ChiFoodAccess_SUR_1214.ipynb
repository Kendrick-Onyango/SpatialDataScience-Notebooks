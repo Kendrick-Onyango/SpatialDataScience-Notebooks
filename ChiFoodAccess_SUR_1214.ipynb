{
 "cells": [
  {
   "cell_type": "markdown",
   "metadata": {},
   "source": [
    "# Food Acess Change in Chicago from 2011 to 2014\n",
    "\n",
    "See SUR documentation here: http://pysal.readthedocs.io/en/latest/library/spreg/sur.html\n"
   ]
  },
  {
   "cell_type": "markdown",
   "metadata": {},
   "source": [
    "### Open required libraries"
   ]
  },
  {
   "cell_type": "code",
   "execution_count": 2,
   "metadata": {
    "collapsed": true
   },
   "outputs": [],
   "source": [
    "import pysal"
   ]
  },
  {
   "cell_type": "markdown",
   "metadata": {},
   "source": [
    "### Open DBF file for Analysis"
   ]
  },
  {
   "cell_type": "code",
   "execution_count": 3,
   "metadata": {
    "collapsed": true
   },
   "outputs": [],
   "source": [
    "db = pysal.open(\"/Users/Masia/Desktop/FA_clip/FA_Panel_1214.dbf\")"
   ]
  },
  {
   "cell_type": "markdown",
   "metadata": {},
   "source": [
    "### Build Spatial Weight"
   ]
  },
  {
   "cell_type": "code",
   "execution_count": 4,
   "metadata": {
    "collapsed": true
   },
   "outputs": [],
   "source": [
    "## Queen-Contiguity Spatial Weight generated\n",
    "w = pysal.queen_from_shapefile(\"/Users/Masia/Desktop/FA_clip/FA_Panel_1214.shp\")\n",
    "w.transform='r'"
   ]
  },
  {
   "cell_type": "markdown",
   "metadata": {},
   "source": [
    "### Generate List of Variables"
   ]
  },
  {
   "cell_type": "code",
   "execution_count": 5,
   "metadata": {
    "collapsed": false
   },
   "outputs": [],
   "source": [
    "## Census Tract Average Network Distance Miles to Supermarkets \n",
    "y_var = ['MEANMI_11','MEANMI_14']\n",
    "\n",
    "## Potential explanatory variables: Population, White%, Black%, Hispanic$, Unemployed,\n",
    "## Childhood Poverty%, Overall Poverty%\n",
    "x_var=[['Pop2012','Wht12P','Blk12P','Hisp12P','UnEmpl12','ChldPvty12','PvtyPrc12'],\n",
    "       ['Pop2014','Wht14P','Blk14P','Hisp14P','UnEmpl14','ChldPvty14','PvtyPrc14']]"
   ]
  },
  {
   "cell_type": "markdown",
   "metadata": {},
   "source": [
    "### Build Variable Dictionaries"
   ]
  },
  {
   "cell_type": "code",
   "execution_count": 6,
   "metadata": {
    "collapsed": false
   },
   "outputs": [],
   "source": [
    "bigy,bigX,bigyvars,bigXvars = pysal.spreg.sur_utils.sur_dictxy(db,y_var,x_var)"
   ]
  },
  {
   "cell_type": "markdown",
   "metadata": {},
   "source": [
    "### Run SUR Regressions"
   ]
  },
  {
   "cell_type": "code",
   "execution_count": 7,
   "metadata": {
    "collapsed": false
   },
   "outputs": [
    {
     "name": "stdout",
     "output_type": "stream",
     "text": [
      "REGRESSION\n",
      "----------\n",
      "SUMMARY OF OUTPUT: SEEMINGLY UNRELATED REGRESSIONS (SUR)\n",
      "--------------------------------------------------------\n",
      "Data set            :         nat\n",
      "Weights matrix      :<pysal.weights.weights.W object at 0x1151fa950>\n",
      "Number of Equations :           2                Number of Observations:         791\n",
      "Log likelihood (SUR):    -706.199                Number of Iterations  :           1\n",
      "----------\n",
      "\n",
      "SUMMARY OF EQUATION 1\n",
      "---------------------\n",
      "Dependent Variable  :   MEANMI_11                Number of Variables   :           8\n",
      "Mean dependent var  :      0.8693                Degrees of Freedom    :         783\n",
      "S.D. dependent var  :      0.5411\n",
      "\n",
      "------------------------------------------------------------------------------------\n",
      "            Variable     Coefficient       Std.Error     z-Statistic     Probability\n",
      "------------------------------------------------------------------------------------\n",
      "          Constant_1       0.8611390       0.1286105       6.6957153       0.0000000\n",
      "             Pop2012      -0.0000074       0.0000122      -0.6050072       0.5451742\n",
      "              Wht12P      -0.0026392       0.0013049      -2.0225897       0.0431155\n",
      "              Blk12P       0.0008434       0.0012610       0.6688321       0.5036026\n",
      "             Hisp12P      -0.0013922       0.0007999      -1.7404563       0.0817789\n",
      "            UnEmpl12       0.0002952       0.0001470       2.0081919       0.0446229\n",
      "          ChldPvty12       0.0018090       0.0014368       1.2590639       0.2080073\n",
      "           PvtyPrc12       0.0018526       0.0021477       0.8626031       0.3883557\n",
      "------------------------------------------------------------------------------------\n",
      "\n",
      "SUMMARY OF EQUATION 2\n",
      "---------------------\n",
      "Dependent Variable  :   MEANMI_14                Number of Variables   :           8\n",
      "Mean dependent var  :      0.8202                Degrees of Freedom    :         783\n",
      "S.D. dependent var  :      0.4733\n",
      "\n",
      "------------------------------------------------------------------------------------\n",
      "            Variable     Coefficient       Std.Error     z-Statistic     Probability\n",
      "------------------------------------------------------------------------------------\n",
      "          Constant_2       0.5970790       0.1250655       4.7741301       0.0000018\n",
      "             Pop2014       0.0000041       0.0000088       0.4622719       0.6438863\n",
      "              Wht14P      -0.0000622       0.0012094      -0.0514457       0.9589704\n",
      "              Blk14P       0.0036096       0.0011716       3.0810761       0.0020625\n",
      "             Hisp14P      -0.0003037       0.0006857      -0.4428967       0.6578404\n",
      "            UnEmpl14       0.0001642       0.0001121       1.4650443       0.1429088\n",
      "          ChldPvty14       0.0016893       0.0012062       1.4005028       0.1613628\n",
      "           PvtyPrc14       0.0005120       0.0017961       0.2850828       0.7755807\n",
      "------------------------------------------------------------------------------------\n",
      "\n",
      "\n",
      "REGRESSION DIAGNOSTICS\n",
      "                                     TEST         DF       VALUE           PROB\n",
      "                         LM test on Sigma         1      387.725           0.0000\n",
      "                         LR test on Sigma         1      532.880           0.0000\n",
      "\n",
      "OTHER DIAGNOSTICS - CHOW TEST\n",
      "                                VARIABLES         DF       VALUE           PROB\n",
      "                   Constant_1, Constant_2         1        4.579           0.0324\n",
      "                         Pop2012, Pop2014         1        1.005           0.3160\n",
      "                           Wht12P, Wht14P         1        4.389           0.0362\n",
      "                           Blk12P, Blk14P         1        5.201           0.0226\n",
      "                         Hisp12P, Hisp14P         1        2.225           0.1358\n",
      "                       UnEmpl12, UnEmpl14         1        0.843           0.3585\n",
      "                   ChldPvty12, ChldPvty14         1        0.007           0.9347\n",
      "                     PvtyPrc12, PvtyPrc14         1        0.372           0.5421\n",
      "\n",
      "DIAGNOSTICS FOR SPATIAL DEPENDENCE\n",
      "TEST                              DF       VALUE           PROB\n",
      "Lagrange Multiplier (error)       2        2052.909        0.0000\n",
      "\n",
      "ERROR CORRELATION MATRIX\n",
      "  EQUATION 1  EQUATION 2\n",
      "    1.000000    0.700122\n",
      "    0.700122    1.000000\n",
      "================================ END OF REPORT =====================================\n"
     ]
    }
   ],
   "source": [
    "## The following doesn't work, though is in the existing documentation:\n",
    "## reg = SUR(bigy,bigX,w=w,name_bigy=bigyvars,name_bigX=bigXvars,spat_diag=True,name_ds=\"nat\")\n",
    "\n",
    "reg = pysal.spreg.sur.SUR(bigy,bigX,w=w,name_bigy=bigyvars,name_bigX=bigXvars,\n",
    "                          spat_diag=True,name_ds=\"nat\",name_w=w)\n",
    "\n",
    "print(reg.summary)"
   ]
  },
  {
   "cell_type": "code",
   "execution_count": null,
   "metadata": {
    "collapsed": true
   },
   "outputs": [],
   "source": []
  }
 ],
 "metadata": {
  "kernelspec": {
   "display_name": "Python 2",
   "language": "python",
   "name": "python2"
  },
  "language_info": {
   "codemirror_mode": {
    "name": "ipython",
    "version": 2
   },
   "file_extension": ".py",
   "mimetype": "text/x-python",
   "name": "python",
   "nbconvert_exporter": "python",
   "pygments_lexer": "ipython2",
   "version": "2.7.11"
  }
 },
 "nbformat": 4,
 "nbformat_minor": 0
}
