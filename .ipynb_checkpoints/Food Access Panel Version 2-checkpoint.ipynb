{
 "cells": [
  {
   "cell_type": "code",
   "execution_count": 2,
   "metadata": {
    "collapsed": false
   },
   "outputs": [],
   "source": [
    "library(rgdal)\n",
    "library(spdep)\n",
    "library(plm)\n",
    "library(lmtest)\n",
    "library(tidyr)"
   ]
  },
  {
   "cell_type": "code",
   "execution_count": 3,
   "metadata": {
    "collapsed": false
   },
   "outputs": [
    {
     "name": "stdout",
     "output_type": "stream",
     "text": [
      "OGR data source with driver: ESRI Shapefile \n",
      "Source: \".\", layer: \"finalChiCluster\"\n",
      "with 791 features\n",
      "It has 244 fields\n"
     ]
    },
    {
     "data": {
      "text/html": [
       "<table>\n",
       "<thead><tr><th></th><th scope=col>LCARC10</th><th scope=col>WHITEMAJ12</th><th scope=col>WHITEMAJ10</th><th scope=col>HISPMAJ12</th><th scope=col>HispMaj10</th><th scope=col>LINC12</th><th scope=col>LINC10</th><th scope=col>LBLK10</th><th scope=col>FA11RT</th><th scope=col>FALAG12</th><th scope=col>⋯</th><th scope=col>LA1and10</th><th scope=col>LA_hf10</th><th scope=col>LAT_hf</th><th scope=col>LATracts1</th><th scope=col>LATracts10</th><th scope=col>LAPOP1_10</th><th scope=col>ForcRsk</th><th scope=col>ForExc</th><th scope=col>RISK0</th><th scope=col>Risk1</th></tr></thead>\n",
       "<tbody>\n",
       "\t<tr><th scope=row>0</th><td>1.6117233 </td><td>0         </td><td>0         </td><td>0         </td><td>0         </td><td>4.1901636 </td><td>4.3227153 </td><td>1.9947569 </td><td>-3.4286204</td><td>-3.3256718</td><td>⋯         </td><td>0         </td><td>0         </td><td>0         </td><td>0         </td><td>0         </td><td>0         </td><td>1         </td><td>0         </td><td>1e-07     </td><td>0         </td></tr>\n",
       "\t<tr><th scope=row>1</th><td>1.5550944 </td><td>1         </td><td>0         </td><td>1         </td><td>1         </td><td>4.2131191 </td><td>4.165719  </td><td>NA        </td><td>-4.0791382</td><td>-4.0491186</td><td>⋯         </td><td>0         </td><td>1         </td><td>1         </td><td>0         </td><td>0         </td><td>0         </td><td>1         </td><td>0         </td><td>1e-07     </td><td>0         </td></tr>\n",
       "\t<tr><th scope=row>2</th><td>1.5237465 </td><td>0         </td><td>0         </td><td>0         </td><td>0         </td><td>4.2359827 </td><td>4.1971702 </td><td>0.544068  </td><td>-3.7375872</td><td>-3.3531419</td><td>⋯         </td><td>0         </td><td>1         </td><td>1         </td><td>0         </td><td>0         </td><td>0         </td><td>1         </td><td>0         </td><td>1e-07     </td><td>0         </td></tr>\n",
       "\t<tr><th scope=row>3</th><td>1.6910815 </td><td>1         </td><td>0         </td><td>1         </td><td>1         </td><td>4.121527  </td><td>4.1398161 </td><td>0.2787536 </td><td>-4.3044929</td><td>-3.7981763</td><td>⋯         </td><td>0         </td><td>0         </td><td>0         </td><td>0         </td><td>0         </td><td>0         </td><td>1         </td><td>0         </td><td>1e-07     </td><td>0         </td></tr>\n",
       "\t<tr><th scope=row>4</th><td>1.5670264 </td><td>0         </td><td>0         </td><td>0         </td><td>0         </td><td>4.5430369 </td><td>4.5693271 </td><td>1.3747483 </td><td>-3.0858738</td><td>-3.322996 </td><td>⋯         </td><td>0         </td><td>1         </td><td>1         </td><td>0         </td><td>0         </td><td>0         </td><td>1         </td><td>0         </td><td>1e-07     </td><td>0         </td></tr>\n",
       "\t<tr><th scope=row>5</th><td>1.8870544 </td><td>0         </td><td>0         </td><td>1         </td><td>1         </td><td>4.2717952 </td><td>4.2262647 </td><td>0.4149733 </td><td>-3.6722824</td><td>-3.537839 </td><td>⋯         </td><td>0         </td><td>1         </td><td>1         </td><td>0         </td><td>0         </td><td>0         </td><td>1         </td><td>0         </td><td>1e-07     </td><td>0         </td></tr>\n",
       "</tbody>\n",
       "</table>\n"
      ],
      "text/latex": [
       "\\begin{tabular}{r|llllllllllllllllllllllllllllllllllllllllllllllllllllllllllllllllllllllllllllllllllllllllllllllllllllllllllllllllllllllllllllllllllllllllllllllllllllllllllllllllllllllllllllllllllllllllllllllllllllllllllllllllllllllllllllllllllllllllllllllllllll}\n",
       "  & LCARC10 & WHITEMAJ12 & WHITEMAJ10 & HISPMAJ12 & HispMaj10 & LINC12 & LINC10 & LBLK10 & FA11RT & FALAG12 & ⋯ & LA1and10 & LA\\_hf10 & LAT\\_hf & LATracts1 & LATracts10 & LAPOP1\\_10 & ForcRsk & ForExc & RISK0 & Risk1\\\\\n",
       "\\hline\n",
       "\t0 & 1.6117233  & 0          & 0          & 0          & 0          & 4.1901636  & 4.3227153  & 1.9947569  & -3.4286204 & -3.3256718 & ⋯          & 0          & 0          & 0          & 0          & 0          & 0          & 1          & 0          & 1e-07      & 0         \\\\\n",
       "\t1 & 1.5550944  & 1          & 0          & 1          & 1          & 4.2131191  & 4.165719   & NA         & -4.0791382 & -4.0491186 & ⋯          & 0          & 1          & 1          & 0          & 0          & 0          & 1          & 0          & 1e-07      & 0         \\\\\n",
       "\t2 & 1.5237465  & 0          & 0          & 0          & 0          & 4.2359827  & 4.1971702  & 0.544068   & -3.7375872 & -3.3531419 & ⋯          & 0          & 1          & 1          & 0          & 0          & 0          & 1          & 0          & 1e-07      & 0         \\\\\n",
       "\t3 & 1.6910815  & 1          & 0          & 1          & 1          & 4.121527   & 4.1398161  & 0.2787536  & -4.3044929 & -3.7981763 & ⋯          & 0          & 0          & 0          & 0          & 0          & 0          & 1          & 0          & 1e-07      & 0         \\\\\n",
       "\t4 & 1.5670264  & 0          & 0          & 0          & 0          & 4.5430369  & 4.5693271  & 1.3747483  & -3.0858738 & -3.322996  & ⋯          & 0          & 1          & 1          & 0          & 0          & 0          & 1          & 0          & 1e-07      & 0         \\\\\n",
       "\t5 & 1.8870544  & 0          & 0          & 1          & 1          & 4.2717952  & 4.2262647  & 0.4149733  & -3.6722824 & -3.537839  & ⋯          & 0          & 1          & 1          & 0          & 0          & 0          & 1          & 0          & 1e-07      & 0         \\\\\n",
       "\\end{tabular}\n"
      ],
      "text/plain": [
       "   LCARC10 WHITEMAJ12 WHITEMAJ10 HISPMAJ12 HispMaj10   LINC12   LINC10\n",
       "0 1.611723          0          0         0         0 4.190164 4.322715\n",
       "1 1.555094          1          0         1         1 4.213119 4.165719\n",
       "2 1.523746          0          0         0         0 4.235983 4.197170\n",
       "3 1.691081          1          0         1         1 4.121527 4.139816\n",
       "4 1.567026          0          0         0         0 4.543037 4.569327\n",
       "5 1.887054          0          0         1         1 4.271795 4.226265\n",
       "     LBLK10    FA11RT   FALAG12 ⋯ LA1and10 LA_hf10 LAT_hf LATracts1 LATracts10\n",
       "0 1.9947569 -3.428620 -3.325672 ⋯        0       0      0         0          0\n",
       "1        NA -4.079138 -4.049119 ⋯        0       1      1         0          0\n",
       "2 0.5440680 -3.737587 -3.353142 ⋯        0       1      1         0          0\n",
       "3 0.2787536 -4.304493 -3.798176 ⋯        0       0      0         0          0\n",
       "4 1.3747483 -3.085874 -3.322996 ⋯        0       1      1         0          0\n",
       "5 0.4149733 -3.672282 -3.537839 ⋯        0       1      1         0          0\n",
       "  LAPOP1_10 ForcRsk ForExc RISK0 Risk1\n",
       "0         0       1      0 1e-07     0\n",
       "1         0       1      0 1e-07     0\n",
       "2         0       1      0 1e-07     0\n",
       "3         0       1      0 1e-07     0\n",
       "4         0       1      0 1e-07     0\n",
       "5         0       1      0 1e-07     0"
      ]
     },
     "metadata": {},
     "output_type": "display_data"
    }
   ],
   "source": [
    "setwd(\"~/Desktop\")\n",
    "chiFR<-readOGR(\".\",\"finalChiCluster\")\n",
    "head(chiFR@data)"
   ]
  },
  {
   "cell_type": "code",
   "execution_count": 4,
   "metadata": {
    "collapsed": false
   },
   "outputs": [],
   "source": [
    "#Covert GeoID from factor to number that's digestable\n",
    "geoid10<-as.numeric(as.character(chiFR@data$geoid10))"
   ]
  },
  {
   "cell_type": "markdown",
   "metadata": {},
   "source": [
    "### Convert from wide to long format. There should two rows for each census tract for each time period"
   ]
  },
  {
   "cell_type": "code",
   "execution_count": 5,
   "metadata": {
    "collapsed": false
   },
   "outputs": [
    {
     "data": {
      "text/html": [
       "<table>\n",
       "<thead><tr><th></th><th scope=col>geoid10</th><th scope=col>LFA</th><th scope=col>LInc</th><th scope=col>FRisk</th><th scope=col>BlkMaj</th><th scope=col>WhtMaj</th><th scope=col>HispMaj</th><th scope=col>Lag</th><th scope=col>Year</th></tr></thead>\n",
       "<tbody>\n",
       "\t<tr><th scope=row>1</th><td> 1.703184e+10</td><td>-3.427710e+00</td><td> 4.322715e+00</td><td> 1.000000e-07</td><td> 1.000000e+00</td><td> 0.000000e+00</td><td> 0.000000e+00</td><td>-3.237726e+00</td><td> 2.010000e+03</td></tr>\n",
       "\t<tr><th scope=row>2</th><td> 1.703184e+10</td><td>-3.973402e+00</td><td> 4.165719e+00</td><td> 1.000000e-07</td><td> 0.000000e+00</td><td> 0.000000e+00</td><td> 1.000000e+00</td><td>-4.033910e+00</td><td> 2.010000e+03</td></tr>\n",
       "\t<tr><th scope=row>3</th><td> 1.703184e+10</td><td>-3.721969e+00</td><td> 4.197170e+00</td><td> 1.000000e-07</td><td> 0.000000e+00</td><td> 0.000000e+00</td><td> 0.000000e+00</td><td>-3.317746e+00</td><td> 2.010000e+03</td></tr>\n",
       "\t<tr><th scope=row>4</th><td> 1.703184e+10</td><td>-4.235919e+00</td><td> 4.139816e+00</td><td> 1.000000e-07</td><td> 0.000000e+00</td><td> 0.000000e+00</td><td> 1.000000e+00</td><td>-3.811096e+00</td><td> 2.010000e+03</td></tr>\n",
       "\t<tr><th scope=row>5</th><td> 1.703184e+10</td><td>-3.031345e+00</td><td> 4.569327e+00</td><td> 1.000000e-07</td><td> 0.000000e+00</td><td> 0.000000e+00</td><td> 0.000000e+00</td><td>-3.322308e+00</td><td> 2.010000e+03</td></tr>\n",
       "\t<tr><th scope=row>6</th><td> 1.703165e+10</td><td>-3.597037e+00</td><td> 4.226265e+00</td><td> 1.000000e-07</td><td> 0.000000e+00</td><td> 0.000000e+00</td><td> 1.000000e+00</td><td>-3.482390e+00</td><td> 2.010000e+03</td></tr>\n",
       "</tbody>\n",
       "</table>\n"
      ],
      "text/latex": [
       "\\begin{tabular}{r|lllllllll}\n",
       "  & geoid10 & LFA & LInc & FRisk & BlkMaj & WhtMaj & HispMaj & Lag & Year\\\\\n",
       "\\hline\n",
       "\t1 &  1.703184e+10 & -3.427710e+00 &  4.322715e+00 &  1.000000e-07 &  1.000000e+00 &  0.000000e+00 &  0.000000e+00 & -3.237726e+00 &  2.010000e+03\\\\\n",
       "\t2 &  1.703184e+10 & -3.973402e+00 &  4.165719e+00 &  1.000000e-07 &  0.000000e+00 &  0.000000e+00 &  1.000000e+00 & -4.033910e+00 &  2.010000e+03\\\\\n",
       "\t3 &  1.703184e+10 & -3.721969e+00 &  4.197170e+00 &  1.000000e-07 &  0.000000e+00 &  0.000000e+00 &  0.000000e+00 & -3.317746e+00 &  2.010000e+03\\\\\n",
       "\t4 &  1.703184e+10 & -4.235919e+00 &  4.139816e+00 &  1.000000e-07 &  0.000000e+00 &  0.000000e+00 &  1.000000e+00 & -3.811096e+00 &  2.010000e+03\\\\\n",
       "\t5 &  1.703184e+10 & -3.031345e+00 &  4.569327e+00 &  1.000000e-07 &  0.000000e+00 &  0.000000e+00 &  0.000000e+00 & -3.322308e+00 &  2.010000e+03\\\\\n",
       "\t6 &  1.703165e+10 & -3.597037e+00 &  4.226265e+00 &  1.000000e-07 &  0.000000e+00 &  0.000000e+00 &  1.000000e+00 & -3.482390e+00 &  2.010000e+03\\\\\n",
       "\\end{tabular}\n"
      ],
      "text/plain": [
       "      geoid10       LFA     LInc FRisk BlkMaj WhtMaj HispMaj       Lag Year\n",
       "1 17031842400 -3.427710 4.322715 1e-07      1      0       0 -3.237726 2010\n",
       "2 17031840300 -3.973402 4.165719 1e-07      0      0       1 -4.033910 2010\n",
       "3 17031841100 -3.721969 4.197170 1e-07      0      0       0 -3.317746 2010\n",
       "4 17031841200 -4.235919 4.139816 1e-07      0      0       1 -3.811096 2010\n",
       "5 17031838200 -3.031345 4.569327 1e-07      0      0       0 -3.322308 2010\n",
       "6 17031650301 -3.597037 4.226265 1e-07      0      0       1 -3.482390 2010"
      ]
     },
     "metadata": {},
     "output_type": "display_data"
    },
    {
     "data": {
      "text/html": [
       "<ol class=list-inline>\n",
       "\t<li>2010</li>\n",
       "\t<li>2012</li>\n",
       "</ol>\n"
      ],
      "text/latex": [
       "\\begin{enumerate*}\n",
       "\\item 2010\n",
       "\\item 2012\n",
       "\\end{enumerate*}\n"
      ],
      "text/markdown": [
       "1. 2010\n",
       "2. 2012\n",
       "\n",
       "\n"
      ],
      "text/plain": [
       "[1] 2010 2012"
      ]
     },
     "metadata": {},
     "output_type": "display_data"
    }
   ],
   "source": [
    "time1<- cbind(as.numeric(as.character(chiFR@data$geoid10)), chiFR@data$FA07RT,\n",
    "              chiFR@data$LINC10, chiFR@data$RISK0, chiFR@data$BlackMaj10,\n",
    "              chiFR@data$WHITEMAJ10,chiFR@data$HispMaj10,chiFR@data$FALAG07, 2010)\n",
    "colnames(time1)<- c(\"geoid10\",\"LFA\",\"LInc\",\"FRisk\",\"BlkMaj\",\"WhtMaj\",\"HispMaj\",\"Lag\",\"Year\")\n",
    "\n",
    "\n",
    "time2<- cbind(as.numeric(as.character(chiFR@data$geoid10)), chiFR@data$FA11RT,\n",
    "              chiFR@data$LINC12, chiFR@data$Risk1, chiFR@data$BLKMAJ12,\n",
    "              chiFR@data$WHITEMAJ12,chiFR@data$HISPMAJ12,chiFR@data$FALAG12,2012)\n",
    "colnames(time2)<- c(\"geoid10\",\"LFA\",\"LInc\",\"FRisk\",\"BlkMaj\",\"WhtMaj\",\"HispMaj\",\"Lag\",\"Year\")\n",
    "\n",
    "test<- rbind(data.frame(time1),data.frame(time2))\n",
    "head(test)\n",
    "\n",
    "unique(test$Year) #ensure we have both years here"
   ]
  },
  {
   "cell_type": "code",
   "execution_count": 11,
   "metadata": {
    "collapsed": false
   },
   "outputs": [],
   "source": [
    "test$YearD<- ifelse(test$Year == \"2010\", 0, 1)\n",
    "test$FD<- test$YearD * test$FRisk"
   ]
  },
  {
   "cell_type": "code",
   "execution_count": 12,
   "metadata": {
    "collapsed": false
   },
   "outputs": [
    {
     "data": {
      "text/html": [
       "<table>\n",
       "<thead><tr><th></th><th scope=col>geoid10</th><th scope=col>LFA</th><th scope=col>LInc</th><th scope=col>FRisk</th><th scope=col>BlkMaj</th><th scope=col>WhtMaj</th><th scope=col>HispMaj</th><th scope=col>Lag</th><th scope=col>Year</th><th scope=col>YearD</th><th scope=col>FD</th></tr></thead>\n",
       "<tbody>\n",
       "\t<tr><th scope=row>1</th><td> 1.703184e+10</td><td>-3.427710e+00</td><td> 4.322715e+00</td><td> 1.000000e-07</td><td> 1.000000e+00</td><td> 0.000000e+00</td><td> 0.000000e+00</td><td>-3.237726e+00</td><td> 2.010000e+03</td><td> 0.000000e+00</td><td> 0.000000e+00</td></tr>\n",
       "\t<tr><th scope=row>2</th><td> 1.703184e+10</td><td>-3.973402e+00</td><td> 4.165719e+00</td><td> 1.000000e-07</td><td> 0.000000e+00</td><td> 0.000000e+00</td><td> 1.000000e+00</td><td>-4.033910e+00</td><td> 2.010000e+03</td><td> 0.000000e+00</td><td> 0.000000e+00</td></tr>\n",
       "\t<tr><th scope=row>3</th><td> 1.703184e+10</td><td>-3.721969e+00</td><td> 4.197170e+00</td><td> 1.000000e-07</td><td> 0.000000e+00</td><td> 0.000000e+00</td><td> 0.000000e+00</td><td>-3.317746e+00</td><td> 2.010000e+03</td><td> 0.000000e+00</td><td> 0.000000e+00</td></tr>\n",
       "\t<tr><th scope=row>4</th><td> 1.703184e+10</td><td>-4.235919e+00</td><td> 4.139816e+00</td><td> 1.000000e-07</td><td> 0.000000e+00</td><td> 0.000000e+00</td><td> 1.000000e+00</td><td>-3.811096e+00</td><td> 2.010000e+03</td><td> 0.000000e+00</td><td> 0.000000e+00</td></tr>\n",
       "\t<tr><th scope=row>5</th><td> 1.703184e+10</td><td>-3.031345e+00</td><td> 4.569327e+00</td><td> 1.000000e-07</td><td> 0.000000e+00</td><td> 0.000000e+00</td><td> 0.000000e+00</td><td>-3.322308e+00</td><td> 2.010000e+03</td><td> 0.000000e+00</td><td> 0.000000e+00</td></tr>\n",
       "\t<tr><th scope=row>6</th><td> 1.703165e+10</td><td>-3.597037e+00</td><td> 4.226265e+00</td><td> 1.000000e-07</td><td> 0.000000e+00</td><td> 0.000000e+00</td><td> 1.000000e+00</td><td>-3.482390e+00</td><td> 2.010000e+03</td><td> 0.000000e+00</td><td> 0.000000e+00</td></tr>\n",
       "</tbody>\n",
       "</table>\n"
      ],
      "text/latex": [
       "\\begin{tabular}{r|lllllllllll}\n",
       "  & geoid10 & LFA & LInc & FRisk & BlkMaj & WhtMaj & HispMaj & Lag & Year & YearD & FD\\\\\n",
       "\\hline\n",
       "\t1 &  1.703184e+10 & -3.427710e+00 &  4.322715e+00 &  1.000000e-07 &  1.000000e+00 &  0.000000e+00 &  0.000000e+00 & -3.237726e+00 &  2.010000e+03 &  0.000000e+00 &  0.000000e+00\\\\\n",
       "\t2 &  1.703184e+10 & -3.973402e+00 &  4.165719e+00 &  1.000000e-07 &  0.000000e+00 &  0.000000e+00 &  1.000000e+00 & -4.033910e+00 &  2.010000e+03 &  0.000000e+00 &  0.000000e+00\\\\\n",
       "\t3 &  1.703184e+10 & -3.721969e+00 &  4.197170e+00 &  1.000000e-07 &  0.000000e+00 &  0.000000e+00 &  0.000000e+00 & -3.317746e+00 &  2.010000e+03 &  0.000000e+00 &  0.000000e+00\\\\\n",
       "\t4 &  1.703184e+10 & -4.235919e+00 &  4.139816e+00 &  1.000000e-07 &  0.000000e+00 &  0.000000e+00 &  1.000000e+00 & -3.811096e+00 &  2.010000e+03 &  0.000000e+00 &  0.000000e+00\\\\\n",
       "\t5 &  1.703184e+10 & -3.031345e+00 &  4.569327e+00 &  1.000000e-07 &  0.000000e+00 &  0.000000e+00 &  0.000000e+00 & -3.322308e+00 &  2.010000e+03 &  0.000000e+00 &  0.000000e+00\\\\\n",
       "\t6 &  1.703165e+10 & -3.597037e+00 &  4.226265e+00 &  1.000000e-07 &  0.000000e+00 &  0.000000e+00 &  1.000000e+00 & -3.482390e+00 &  2.010000e+03 &  0.000000e+00 &  0.000000e+00\\\\\n",
       "\\end{tabular}\n"
      ],
      "text/plain": [
       "      geoid10       LFA     LInc FRisk BlkMaj WhtMaj HispMaj       Lag Year\n",
       "1 17031842400 -3.427710 4.322715 1e-07      1      0       0 -3.237726 2010\n",
       "2 17031840300 -3.973402 4.165719 1e-07      0      0       1 -4.033910 2010\n",
       "3 17031841100 -3.721969 4.197170 1e-07      0      0       0 -3.317746 2010\n",
       "4 17031841200 -4.235919 4.139816 1e-07      0      0       1 -3.811096 2010\n",
       "5 17031838200 -3.031345 4.569327 1e-07      0      0       0 -3.322308 2010\n",
       "6 17031650301 -3.597037 4.226265 1e-07      0      0       1 -3.482390 2010\n",
       "  YearD FD\n",
       "1     0  0\n",
       "2     0  0\n",
       "3     0  0\n",
       "4     0  0\n",
       "5     0  0\n",
       "6     0  0"
      ]
     },
     "metadata": {},
     "output_type": "display_data"
    }
   ],
   "source": [
    "head(test)"
   ]
  },
  {
   "cell_type": "markdown",
   "metadata": {},
   "source": [
    "### First, a pooled regression of all of our observations"
   ]
  },
  {
   "cell_type": "code",
   "execution_count": 6,
   "metadata": {
    "collapsed": false
   },
   "outputs": [
    {
     "data": {
      "text/plain": [
       "\n",
       "Call:\n",
       "lm(formula = LFA ~ LInc + BlkMaj + WhtMaj + HispMaj + FRisk, \n",
       "    data = test)\n",
       "\n",
       "Residuals:\n",
       "    Min      1Q  Median      3Q     Max \n",
       "-1.0802 -0.2204  0.0004  0.2040  1.5720 \n",
       "\n",
       "Coefficients:\n",
       "             Estimate Std. Error t value Pr(>|t|)    \n",
       "(Intercept) -2.783198   0.201216 -13.832  < 2e-16 ***\n",
       "LInc        -0.208258   0.044676  -4.661 3.40e-06 ***\n",
       "BlkMaj       0.217928   0.030820   7.071 2.30e-12 ***\n",
       "WhtMaj       0.003084   0.025075   0.123    0.902    \n",
       "HispMaj     -0.122145   0.027268  -4.479 8.02e-06 ***\n",
       "FRisk        0.234538   0.024997   9.383  < 2e-16 ***\n",
       "---\n",
       "Signif. codes:  0 ‘***’ 0.001 ‘**’ 0.01 ‘*’ 0.05 ‘.’ 0.1 ‘ ’ 1\n",
       "\n",
       "Residual standard error: 0.3122 on 1576 degrees of freedom\n",
       "Multiple R-squared:  0.2764,\tAdjusted R-squared:  0.2741 \n",
       "F-statistic: 120.4 on 5 and 1576 DF,  p-value: < 2.2e-16\n"
      ]
     },
     "metadata": {},
     "output_type": "display_data"
    }
   ],
   "source": [
    "reg1<- lm(LFA~  LInc + BlkMaj + WhtMaj + HispMaj + FRisk, data = test)\n",
    "summary(reg1)"
   ]
  },
  {
   "cell_type": "code",
   "execution_count": 13,
   "metadata": {
    "collapsed": false
   },
   "outputs": [
    {
     "data": {
      "text/plain": [
       "\n",
       "Call:\n",
       "lm(formula = LFA ~ LInc + BlkMaj + WhtMaj + HispMaj + FRisk + \n",
       "    FD, data = test)\n",
       "\n",
       "Residuals:\n",
       "     Min       1Q   Median       3Q      Max \n",
       "-1.10704 -0.22075  0.00017  0.20451  1.54361 \n",
       "\n",
       "Coefficients:\n",
       "              Estimate Std. Error t value Pr(>|t|)    \n",
       "(Intercept) -2.854e+00  2.001e-01 -14.257  < 2e-16 ***\n",
       "LInc        -2.047e-01  4.434e-02  -4.616 4.23e-06 ***\n",
       "BlkMaj       2.155e-01  3.059e-02   7.044 2.77e-12 ***\n",
       "WhtMaj       1.504e-02  2.499e-02   0.602    0.547    \n",
       "HispMaj     -1.233e-01  2.706e-02  -4.556 5.62e-06 ***\n",
       "FRisk        8.660e+05  1.713e+05   5.057 4.77e-07 ***\n",
       "FD          -8.660e+05  1.713e+05  -5.057 4.77e-07 ***\n",
       "---\n",
       "Signif. codes:  0 ‘***’ 0.001 ‘**’ 0.01 ‘*’ 0.05 ‘.’ 0.1 ‘ ’ 1\n",
       "\n",
       "Residual standard error: 0.3098 on 1575 degrees of freedom\n",
       "Multiple R-squared:  0.288,\tAdjusted R-squared:  0.2853 \n",
       "F-statistic: 106.2 on 6 and 1575 DF,  p-value: < 2.2e-16\n"
      ]
     },
     "metadata": {},
     "output_type": "display_data"
    }
   ],
   "source": [
    "reg1<- lm(LFA~  LInc + BlkMaj + WhtMaj + HispMaj + FRisk + FD, data = test)\n",
    "summary(reg1)"
   ]
  },
  {
   "cell_type": "markdown",
   "metadata": {},
   "source": [
    "### If we add spatially lagged food access, the regression changes."
   ]
  },
  {
   "cell_type": "code",
   "execution_count": 17,
   "metadata": {
    "collapsed": false
   },
   "outputs": [
    {
     "data": {
      "text/plain": [
       "\n",
       "Call:\n",
       "lm(formula = LFA ~ LInc + BlkMaj + WhtMaj + HispMaj + FRisk + \n",
       "    Lag, data = test)\n",
       "\n",
       "Residuals:\n",
       "     Min       1Q   Median       3Q      Max \n",
       "-0.72090 -0.15697 -0.00548  0.15050  1.33261 \n",
       "\n",
       "Coefficients:\n",
       "            Estimate Std. Error t value Pr(>|t|)    \n",
       "(Intercept) -0.09603    0.17422  -0.551   0.5816    \n",
       "LInc        -0.02976    0.03468  -0.858   0.3910    \n",
       "BlkMaj       0.03100    0.02430   1.276   0.2022    \n",
       "WhtMaj       0.04207    0.01927   2.183   0.0292 *  \n",
       "HispMaj     -0.02502    0.02112  -1.185   0.2363    \n",
       "FRisk        0.17164    0.01926   8.910   <2e-16 ***\n",
       "Lag          0.94774    0.02852  33.232   <2e-16 ***\n",
       "---\n",
       "Signif. codes:  0 ‘***’ 0.001 ‘**’ 0.01 ‘*’ 0.05 ‘.’ 0.1 ‘ ’ 1\n",
       "\n",
       "Residual standard error: 0.2395 on 1575 degrees of freedom\n",
       "Multiple R-squared:  0.5747,\tAdjusted R-squared:  0.573 \n",
       "F-statistic: 354.7 on 6 and 1575 DF,  p-value: < 2.2e-16\n"
      ]
     },
     "metadata": {},
     "output_type": "display_data"
    }
   ],
   "source": [
    "reg2<- lm(LFA~  LInc + BlkMaj + WhtMaj + HispMaj + FRisk + Lag, data = test)\n",
    "summary(reg2)"
   ]
  },
  {
   "cell_type": "markdown",
   "metadata": {},
   "source": [
    "### In a pooled OLS, with and without spatial lag, the results are sensitive and lead to differing conclusions.\n",
    "\n",
    "Instead, let's set up a panel model to test fixed and random effects for each year and census tract. First, we set up the index as a data frame."
   ]
  },
  {
   "cell_type": "code",
   "execution_count": 12,
   "metadata": {
    "collapsed": true
   },
   "outputs": [],
   "source": [
    "index1 <- pdata.frame(test, index=c(\"geoid10\", \"Year\"))"
   ]
  },
  {
   "cell_type": "markdown",
   "metadata": {},
   "source": [
    "### Fixed Effect model (without spatial effects)"
   ]
  },
  {
   "cell_type": "code",
   "execution_count": 13,
   "metadata": {
    "collapsed": false
   },
   "outputs": [
    {
     "data": {
      "text/plain": [
       "Oneway (individual) effect Within Model\n",
       "\n",
       "Call:\n",
       "plm(formula = LFA ~ LInc + BlkMaj + WhtMaj + HispMaj + FRisk, \n",
       "    data = index1, model = \"within\")\n",
       "\n",
       "Balanced Panel: n=791, T=2, N=1582\n",
       "\n",
       "Residuals :\n",
       "     Min.   1st Qu.    Median   3rd Qu.      Max. \n",
       "-3.72e-01 -1.84e-02 -1.14e-16  1.84e-02  3.72e-01 \n",
       "\n",
       "Coefficients :\n",
       "          Estimate Std. Error t-value Pr(>|t|)   \n",
       "LInc     0.2558905  0.0789506  3.2411 0.001241 **\n",
       "BlkMaj   0.1188814  0.0429211  2.7698 0.005742 **\n",
       "WhtMaj  -0.0015409  0.0154083 -0.1000 0.920365   \n",
       "HispMaj  0.0173383  0.0329688  0.5259 0.599107   \n",
       "FRisk   -0.0030077  0.0094365 -0.3187 0.750013   \n",
       "---\n",
       "Signif. codes:  0 ‘***’ 0.001 ‘**’ 0.01 ‘*’ 0.05 ‘.’ 0.1 ‘ ’ 1\n",
       "\n",
       "Total Sum of Squares:    7.0033\n",
       "Residual Sum of Squares: 6.849\n",
       "R-Squared:      0.022026\n",
       "Adj. R-Squared: 0.010943\n",
       "F-statistic: 3.54039 on 5 and 786 DF, p-value: 0.0035835"
      ]
     },
     "metadata": {},
     "output_type": "display_data"
    }
   ],
   "source": [
    "fixed <-plm(LFA ~ LInc + BlkMaj + WhtMaj + HispMaj + FRisk, data=index1, model=\"within\")\n",
    "summary(fixed)"
   ]
  },
  {
   "cell_type": "markdown",
   "metadata": {},
   "source": [
    "## Let's conduct some tests on the fixed effects results. \n",
    "As a DID setup, we know the model is subject to multiple challenges that can lead to erroneous conclusions."
   ]
  },
  {
   "cell_type": "markdown",
   "metadata": {},
   "source": [
    "### Breusch-Pagan LM Test\n",
    "A Breusch-Pagan LM test suggests that there are signficant individual effects at the unit level. Because it fails, \n",
    "we must consider a Random Effects model. "
   ]
  },
  {
   "cell_type": "code",
   "execution_count": 19,
   "metadata": {
    "collapsed": false
   },
   "outputs": [
    {
     "data": {
      "text/plain": [
       "\n",
       "\tLagrange Multiplier Test - (Breusch-Pagan)\n",
       "\n",
       "data:  LFA ~ LInc + BlkMaj + WhtMaj + HispMaj + FRisk\n",
       "chisq = 549.63, df = 1, p-value < 2.2e-16\n",
       "alternative hypothesis: significant effects\n"
      ]
     },
     "metadata": {},
     "output_type": "display_data"
    }
   ],
   "source": [
    "plmtest(fixed, type=c(\"bp\")) "
   ]
  },
  {
   "cell_type": "markdown",
   "metadata": {},
   "source": [
    "###  Tests for Cross-Sectional Dependence\n",
    "\n",
    "Next we test for cross-sectional dependence, an area of concern for DID analysis. The fixed effect model fails.\n"
   ]
  },
  {
   "cell_type": "code",
   "execution_count": 23,
   "metadata": {
    "collapsed": false
   },
   "outputs": [
    {
     "data": {
      "text/plain": [
       "\n",
       "\tBreusch-Pagan LM test for cross-sectional dependence in panels\n",
       "\n",
       "data:  formula\n",
       "chisq = 624890, df = 312440, p-value < 2.2e-16\n",
       "alternative hypothesis: cross-sectional dependence\n"
      ]
     },
     "metadata": {},
     "output_type": "display_data"
    },
    {
     "data": {
      "text/plain": [
       "\n",
       "\tPesaran CD test for cross-sectional dependence in panels\n",
       "\n",
       "data:  formula\n",
       "z = 7.2992, p-value = 2.895e-13\n",
       "alternative hypothesis: cross-sectional dependence\n"
      ]
     },
     "metadata": {},
     "output_type": "display_data"
    }
   ],
   "source": [
    "pcdtest(fixed, test = c(\"lm\")) #Breusch-Pagan LM test of independence (FAIL)\n",
    "pcdtest(fixed, test = c(\"cd\")) # Pesaran CD test (PASS)\n"
   ]
  },
  {
   "cell_type": "markdown",
   "metadata": {},
   "source": [
    "### Test for serial correlation \n",
    "The Breusch-Godfrey/Wooldridge test for serial correlation also fails.\n"
   ]
  },
  {
   "cell_type": "code",
   "execution_count": 24,
   "metadata": {
    "collapsed": false
   },
   "outputs": [
    {
     "data": {
      "text/plain": [
       "\n",
       "\tBreusch-Godfrey/Wooldridge test for serial correlation in panel models\n",
       "\n",
       "data:  LFA ~ LInc + BlkMaj + WhtMaj + HispMaj + FRisk\n",
       "chisq = 911.46, df = 2, p-value < 2.2e-16\n",
       "alternative hypothesis: serial correlation in idiosyncratic errors\n"
      ]
     },
     "metadata": {},
     "output_type": "display_data"
    }
   ],
   "source": [
    "pbgtest(fixed)"
   ]
  },
  {
   "cell_type": "markdown",
   "metadata": {},
   "source": [
    "### Test for heteroskedasticity\n",
    "Finally, we test for heteroskedasticity. It fails, but not as much as previous tests."
   ]
  },
  {
   "cell_type": "code",
   "execution_count": 25,
   "metadata": {
    "collapsed": false
   },
   "outputs": [
    {
     "data": {
      "text/plain": [
       "\n",
       "\tBreusch-Pagan test\n",
       "\n",
       "data:  fixed\n",
       "BP = 12.377, df = 5, p-value = 0.02997\n"
      ]
     },
     "metadata": {},
     "output_type": "display_data"
    }
   ],
   "source": [
    "bptest(fixed, studentize=F)"
   ]
  },
  {
   "cell_type": "markdown",
   "metadata": {},
   "source": [
    "## Random Effects Model\n",
    "Next, we try a Random Effects model to account for individual heterogeneity. "
   ]
  },
  {
   "cell_type": "code",
   "execution_count": 26,
   "metadata": {
    "collapsed": false
   },
   "outputs": [
    {
     "data": {
      "text/plain": [
       "Oneway (individual) effect Random Effect Model \n",
       "   (Swamy-Arora's transformation)\n",
       "\n",
       "Call:\n",
       "plm(formula = LFA ~ LInc + BlkMaj + HispMaj + WhtMaj + FRisk, \n",
       "    data = index1, model = \"random\")\n",
       "\n",
       "Balanced Panel: n=791, T=2, N=1582\n",
       "\n",
       "Effects:\n",
       "                   var  std.dev share\n",
       "idiosyncratic 0.008714 0.093348 0.099\n",
       "individual    0.079315 0.281629 0.901\n",
       "theta:  0.7718  \n",
       "\n",
       "Residuals :\n",
       "     Min.   1st Qu.    Median   3rd Qu.      Max. \n",
       "-0.360000 -0.065100 -0.000401  0.061300  0.504000 \n",
       "\n",
       "Coefficients :\n",
       "              Estimate Std. Error  t-value Pr(>|t|)    \n",
       "(Intercept) -3.3135634  0.2031548 -16.3105  < 2e-16 ***\n",
       "LInc        -0.0872213  0.0453056  -1.9252  0.05439 .  \n",
       "BlkMaj       0.2685090  0.0262452  10.2308  < 2e-16 ***\n",
       "HispMaj     -0.0350825  0.0248485  -1.4119  0.15819    \n",
       "WhtMaj      -0.0131141  0.0147789  -0.8874  0.37502    \n",
       "FRisk        0.0217199  0.0097606   2.2253  0.02621 *  \n",
       "---\n",
       "Signif. codes:  0 ‘***’ 0.001 ‘**’ 0.01 ‘*’ 0.05 ‘.’ 0.1 ‘ ’ 1\n",
       "\n",
       "Total Sum of Squares:    17.696\n",
       "Residual Sum of Squares: 15.311\n",
       "R-Squared:      0.13479\n",
       "Adj. R-Squared: 0.13428\n",
       "F-statistic: 49.1033 on 5 and 1576 DF, p-value: < 2.22e-16"
      ]
     },
     "metadata": {},
     "output_type": "display_data"
    }
   ],
   "source": [
    "random<-plm(LFA ~ LInc + BlkMaj + HispMaj + WhtMaj + FRisk, data=index1, model=\"random\")\n",
    "summary(random)"
   ]
  },
  {
   "cell_type": "markdown",
   "metadata": {},
   "source": [
    "## Diagnostics"
   ]
  },
  {
   "cell_type": "code",
   "execution_count": 27,
   "metadata": {
    "collapsed": false
   },
   "outputs": [
    {
     "data": {
      "text/plain": [
       "\n",
       "\tBreusch-Pagan test\n",
       "\n",
       "data:  random\n",
       "BP = 12.377, df = 5, p-value = 0.02997\n"
      ]
     },
     "metadata": {},
     "output_type": "display_data"
    },
    {
     "data": {
      "text/plain": [
       "\n",
       "\tBreusch-Godfrey/Wooldridge test for serial correlation in panel models\n",
       "\n",
       "data:  LFA ~ LInc + BlkMaj + HispMaj + WhtMaj + FRisk\n",
       "chisq = 290.9, df = 2, p-value < 2.2e-16\n",
       "alternative hypothesis: serial correlation in idiosyncratic errors\n"
      ]
     },
     "metadata": {},
     "output_type": "display_data"
    },
    {
     "data": {
      "text/plain": [
       "\n",
       "\tBreusch-Pagan LM test for cross-sectional dependence in panels\n",
       "\n",
       "data:  formula\n",
       "chisq = 624890, df = 312440, p-value < 2.2e-16\n",
       "alternative hypothesis: cross-sectional dependence\n"
      ]
     },
     "metadata": {},
     "output_type": "display_data"
    }
   ],
   "source": [
    "# Test for heteroskedasticity \n",
    "bptest(random, studentize=F)\n",
    "\n",
    "#Test for serial correlation \n",
    "pbgtest(random)\n",
    "\n",
    "#Test for x-sectional dependence\n",
    "pcdtest(random, test = c(\"lm\")) #Breusch-Pagan LM test of independence \n",
    "\n"
   ]
  },
  {
   "cell_type": "code",
   "execution_count": null,
   "metadata": {
    "collapsed": true
   },
   "outputs": [],
   "source": []
  },
  {
   "cell_type": "code",
   "execution_count": null,
   "metadata": {
    "collapsed": true
   },
   "outputs": [],
   "source": [
    "# Test for heteroskedasticity (PASS)\n",
    "bptest(random, studentize=F)\n",
    "\n",
    "#Test for serial correlation (PASS)\n",
    "pbgtest(random)\n",
    "\n",
    "#Test for x-sectional dependence\n",
    "pcdtest(random, test = c(\"lm\")) #Breusch-Pagan LM test of independence (FAIL)\n",
    "\n"
   ]
  }
 ],
 "metadata": {
  "kernelspec": {
   "display_name": "R",
   "language": "R",
   "name": "ir"
  },
  "language_info": {
   "codemirror_mode": "r",
   "file_extension": ".r",
   "mimetype": "text/x-r-source",
   "name": "R",
   "pygments_lexer": "r",
   "version": "3.2.4"
  }
 },
 "nbformat": 4,
 "nbformat_minor": 0
}
