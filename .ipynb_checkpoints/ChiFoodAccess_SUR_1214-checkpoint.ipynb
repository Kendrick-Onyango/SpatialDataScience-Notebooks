{
 "cells": [
  {
   "cell_type": "markdown",
   "metadata": {},
   "source": [
    "# Food Acess Change in Chicago from 2011 to 2014\n",
    "\n",
    "See SUR documentation here: http://pysal.readthedocs.io/en/latest/library/spreg/sur.html\n"
   ]
  },
  {
   "cell_type": "markdown",
   "metadata": {},
   "source": [
    "### Open required libraries"
   ]
  },
  {
   "cell_type": "code",
   "execution_count": 2,
   "metadata": {
    "collapsed": true
   },
   "outputs": [],
   "source": [
    "import pysal"
   ]
  },
  {
   "cell_type": "markdown",
   "metadata": {},
   "source": [
    "### Open DBF file for Analysis"
   ]
  },
  {
   "cell_type": "code",
   "execution_count": 3,
   "metadata": {
    "collapsed": true
   },
   "outputs": [],
   "source": [
    "db = pysal.open(\"/Users/Masia/Desktop/FA_clip/FA_Panel_1214.dbf\")"
   ]
  },
  {
   "cell_type": "markdown",
   "metadata": {},
   "source": [
    "### Build Spatial Weight"
   ]
  },
  {
   "cell_type": "code",
   "execution_count": 4,
   "metadata": {
    "collapsed": false
   },
   "outputs": [],
   "source": [
    "## Queen-Contiguity Spatial Weight generated\n",
    "w = pysal.queen_from_shapefile(\"/Users/Masia/Desktop/FA_clip/FA_Panel_1214.shp\")\n",
    "w.transform='r'"
   ]
  },
  {
   "cell_type": "markdown",
   "metadata": {},
   "source": [
    "### Generate List of Variables"
   ]
  },
  {
   "cell_type": "code",
   "execution_count": 5,
   "metadata": {
    "collapsed": false
   },
   "outputs": [],
   "source": [
    "## Census Tract Average Network Distance Miles to Supermarkets \n",
    "y_var = ['MEANMI_11','MEANMI_14']\n",
    "\n",
    "## Potential explanatory variables: Population, White%, Black%, Hispanic$, Unemployed,\n",
    "## Childhood Poverty%, Overall Poverty%\n",
    "x_var=[['Pop2012','Wht12P','Blk12P','Hisp12P','UnEmpl12','ChldPvty12','PvtyPrc12'],\n",
    "       ['Pop2014','Wht14P','Blk14P','Hisp14P','UnEmpl14','ChldPvty14','PvtyPrc14']]"
   ]
  },
  {
   "cell_type": "markdown",
   "metadata": {},
   "source": [
    "### Build Variable Dictionaries"
   ]
  },
  {
   "cell_type": "code",
   "execution_count": 6,
   "metadata": {
    "collapsed": false
   },
   "outputs": [],
   "source": [
    "bigy,bigX,bigyvars,bigXvars = pysal.spreg.sur_utils.sur_dictxy(db,y_var,x_var)"
   ]
  },
  {
   "cell_type": "markdown",
   "metadata": {},
   "source": [
    "### Run SUR Regressions"
   ]
  },
  {
   "cell_type": "code",
   "execution_count": 7,
   "metadata": {
    "collapsed": false
   },
   "outputs": [
    {
     "name": "stdout",
     "output_type": "stream",
     "text": [
      "REGRESSION\n",
      "----------\n",
      "SUMMARY OF OUTPUT: SEEMINGLY UNRELATED REGRESSIONS (SUR)\n",
      "--------------------------------------------------------\n",
      "Data set            :         nat\n",
      "Weights matrix      :<pysal.weights.weights.W object at 0x1152c2dd0>\n",
      "Number of Equations :           2                Number of Observations:         791\n",
      "Log likelihood (SUR):    -706.199                Number of Iterations  :           1\n",
      "----------\n",
      "\n",
      "SUMMARY OF EQUATION 1\n",
      "---------------------\n",
      "Dependent Variable  :   MEANMI_11                Number of Variables   :           8\n",
      "Mean dependent var  :      0.8693                Degrees of Freedom    :         783\n",
      "S.D. dependent var  :      0.5411\n",
      "\n",
      "------------------------------------------------------------------------------------\n",
      "            Variable     Coefficient       Std.Error     z-Statistic     Probability\n",
      "------------------------------------------------------------------------------------\n",
      "          Constant_1       0.8611390       0.1286105       6.6957153       0.0000000\n",
      "             Pop2012      -0.0000074       0.0000122      -0.6050072       0.5451742\n",
      "              Wht12P      -0.0026392       0.0013049      -2.0225897       0.0431155\n",
      "              Blk12P       0.0008434       0.0012610       0.6688321       0.5036026\n",
      "             Hisp12P      -0.0013922       0.0007999      -1.7404563       0.0817789\n",
      "            UnEmpl12       0.0002952       0.0001470       2.0081919       0.0446229\n",
      "          ChldPvty12       0.0018090       0.0014368       1.2590639       0.2080073\n",
      "           PvtyPrc12       0.0018526       0.0021477       0.8626031       0.3883557\n",
      "------------------------------------------------------------------------------------\n",
      "\n",
      "SUMMARY OF EQUATION 2\n",
      "---------------------\n",
      "Dependent Variable  :   MEANMI_14                Number of Variables   :           8\n",
      "Mean dependent var  :      0.8202                Degrees of Freedom    :         783\n",
      "S.D. dependent var  :      0.4733\n",
      "\n",
      "------------------------------------------------------------------------------------\n",
      "            Variable     Coefficient       Std.Error     z-Statistic     Probability\n",
      "------------------------------------------------------------------------------------\n",
      "          Constant_2       0.5970790       0.1250655       4.7741301       0.0000018\n",
      "             Pop2014       0.0000041       0.0000088       0.4622719       0.6438863\n",
      "              Wht14P      -0.0000622       0.0012094      -0.0514457       0.9589704\n",
      "              Blk14P       0.0036096       0.0011716       3.0810761       0.0020625\n",
      "             Hisp14P      -0.0003037       0.0006857      -0.4428967       0.6578404\n",
      "            UnEmpl14       0.0001642       0.0001121       1.4650443       0.1429088\n",
      "          ChldPvty14       0.0016893       0.0012062       1.4005028       0.1613628\n",
      "           PvtyPrc14       0.0005120       0.0017961       0.2850828       0.7755807\n",
      "------------------------------------------------------------------------------------\n",
      "\n",
      "\n",
      "REGRESSION DIAGNOSTICS\n",
      "                                     TEST         DF       VALUE           PROB\n",
      "                         LM test on Sigma         1      387.725           0.0000\n",
      "                         LR test on Sigma         1      532.880           0.0000\n",
      "\n",
      "OTHER DIAGNOSTICS - CHOW TEST\n",
      "                                VARIABLES         DF       VALUE           PROB\n",
      "                   Constant_1, Constant_2         1        4.579           0.0324\n",
      "                         Pop2012, Pop2014         1        1.005           0.3160\n",
      "                           Wht12P, Wht14P         1        4.389           0.0362\n",
      "                           Blk12P, Blk14P         1        5.201           0.0226\n",
      "                         Hisp12P, Hisp14P         1        2.225           0.1358\n",
      "                       UnEmpl12, UnEmpl14         1        0.843           0.3585\n",
      "                   ChldPvty12, ChldPvty14         1        0.007           0.9347\n",
      "                     PvtyPrc12, PvtyPrc14         1        0.372           0.5421\n",
      "\n",
      "DIAGNOSTICS FOR SPATIAL DEPENDENCE\n",
      "TEST                              DF       VALUE           PROB\n",
      "Lagrange Multiplier (error)       2        2052.909        0.0000\n",
      "\n",
      "ERROR CORRELATION MATRIX\n",
      "  EQUATION 1  EQUATION 2\n",
      "    1.000000    0.700122\n",
      "    0.700122    1.000000\n",
      "================================ END OF REPORT =====================================\n"
     ]
    }
   ],
   "source": [
    "## The following doesn't work, though is in the existing documentation:\n",
    "## reg = SUR(bigy,bigX,w=w,name_bigy=bigyvars,name_bigX=bigXvars,spat_diag=True,name_ds=\"nat\")\n",
    "\n",
    "reg = pysal.spreg.sur.SUR(bigy,bigX,w=w,name_bigy=bigyvars,name_bigX=bigXvars,\n",
    "                          spat_diag=True,name_ds=\"nat\",name_w=w)\n",
    "\n",
    "print(reg.summary)"
   ]
  },
  {
   "cell_type": "code",
   "execution_count": 8,
   "metadata": {
    "collapsed": false
   },
   "outputs": [
    {
     "data": {
      "text/plain": [
       "{0: array([[  7.61431379e-01],\n",
       "        [  5.15463678e-06],\n",
       "        [ -2.35013187e-03],\n",
       "        [  3.97620780e-03],\n",
       "        [  4.56187778e-04],\n",
       "        [ -4.01470734e-05],\n",
       "        [  5.30709937e-04],\n",
       "        [  1.36032826e-03]]), 1: array([[  4.00052708e-01],\n",
       "        [ -8.65363457e-07],\n",
       "        [  1.66612412e-03],\n",
       "        [  6.12115543e-03],\n",
       "        [  6.27003686e-04],\n",
       "        [  2.53734214e-04],\n",
       "        [  1.86812047e-03],\n",
       "        [  2.58929747e-04]])}"
      ]
     },
     "execution_count": 8,
     "metadata": {},
     "output_type": "execute_result"
    }
   ],
   "source": [
    "reg.bOLS"
   ]
  },
  {
   "cell_type": "code",
   "execution_count": 9,
   "metadata": {
    "collapsed": false
   },
   "outputs": [
    {
     "data": {
      "text/plain": [
       "{0: array([[  8.61139038e-01],\n",
       "        [ -7.40032534e-06],\n",
       "        [ -2.63921026e-03],\n",
       "        [  8.43374739e-04],\n",
       "        [ -1.39219853e-03],\n",
       "        [  2.95224921e-04],\n",
       "        [  1.80902975e-03],\n",
       "        [  1.85262322e-03]]), 1: array([[  5.97078989e-01],\n",
       "        [  4.08558489e-06],\n",
       "        [ -6.22160633e-05],\n",
       "        [  3.60964127e-03],\n",
       "        [ -3.03707992e-04],\n",
       "        [  1.64175062e-04],\n",
       "        [  1.68927103e-03],\n",
       "        [  5.12033215e-04]])}"
      ]
     },
     "execution_count": 9,
     "metadata": {},
     "output_type": "execute_result"
    }
   ],
   "source": [
    "reg.bSUR"
   ]
  },
  {
   "cell_type": "code",
   "execution_count": 10,
   "metadata": {
    "collapsed": false
   },
   "outputs": [
    {
     "data": {
      "text/plain": [
       "{0: array([[  1.28610461e-01,   6.69571533e+00,   2.14619163e-11],\n",
       "        [  1.22317962e-05,  -6.05007245e-01,   5.45174183e-01],\n",
       "        [  1.30486685e-03,  -2.02258971e+00,   4.31154659e-02],\n",
       "        [  1.26096627e-03,   6.68832118e-01,   5.03602576e-01],\n",
       "        [  7.99904311e-04,  -1.74045635e+00,   8.17789189e-02],\n",
       "        [  1.47010311e-04,   2.00819194e+00,   4.46228995e-02],\n",
       "        [  1.43680537e-03,   1.25906388e+00,   2.08007259e-01],\n",
       "        [  2.14771224e-03,   8.62603091e-01,   3.88355730e-01]]),\n",
       " 1: array([[  1.25065504e-01,   4.77413012e+00,   1.80485669e-06],\n",
       "        [  8.83805534e-06,   4.62271929e-01,   6.43886328e-01],\n",
       "        [  1.20935380e-03,  -5.14457088e-02,   9.58970363e-01],\n",
       "        [  1.17155212e-03,   3.08107612e+00,   2.06253910e-03],\n",
       "        [  6.85730960e-04,  -4.42896718e-01,   6.57840441e-01],\n",
       "        [  1.12061503e-04,   1.46504426e+00,   1.42908843e-01],\n",
       "        [  1.20618893e-03,   1.40050284e+00,   1.61362792e-01],\n",
       "        [  1.79608595e-03,   2.85082802e-01,   7.75580705e-01]])}"
      ]
     },
     "execution_count": 10,
     "metadata": {},
     "output_type": "execute_result"
    }
   ],
   "source": [
    "reg.sur_inf"
   ]
  },
  {
   "cell_type": "code",
   "execution_count": 13,
   "metadata": {
    "collapsed": false
   },
   "outputs": [
    {
     "data": {
      "text/plain": [
       "['__doc__',\n",
       " '__init__',\n",
       " '__module__',\n",
       " '__summary',\n",
       " 'bOLS',\n",
       " 'bSUR',\n",
       " 'bigE',\n",
       " 'bigK',\n",
       " 'bigX',\n",
       " 'bigXX',\n",
       " 'bigXy',\n",
       " 'bigy',\n",
       " 'corr',\n",
       " 'ldetS0',\n",
       " 'ldetS1',\n",
       " 'llik',\n",
       " 'lmEtest',\n",
       " 'lmtest',\n",
       " 'lrtest',\n",
       " 'n',\n",
       " 'n_eq',\n",
       " 'name_bigX',\n",
       " 'name_bigy',\n",
       " 'name_ds',\n",
       " 'name_w',\n",
       " 'niter',\n",
       " 'olsE',\n",
       " 'sig',\n",
       " 'sig_ols',\n",
       " 'summary',\n",
       " 'sur_inf',\n",
       " 'sur_ols',\n",
       " 'surchow',\n",
       " 'title',\n",
       " 'varb']"
      ]
     },
     "execution_count": 13,
     "metadata": {},
     "output_type": "execute_result"
    }
   ],
   "source": [
    "dir(reg)"
   ]
  },
  {
   "cell_type": "code",
   "execution_count": 16,
   "metadata": {
    "collapsed": false
   },
   "outputs": [
    {
     "data": {
      "text/plain": [
       "-706.1992686723512"
      ]
     },
     "execution_count": 16,
     "metadata": {},
     "output_type": "execute_result"
    }
   ],
   "source": [
    "reg.llik"
   ]
  },
  {
   "cell_type": "code",
   "execution_count": 30,
   "metadata": {
    "collapsed": false
   },
   "outputs": [
    {
     "data": {
      "text/plain": [
       "{0: array([[  1.00000000e+00,   5.16300000e+03,   4.14000000e+01, ...,\n",
       "           3.16000000e+02,   4.20000000e+01,   3.30000000e+01],\n",
       "        [  1.00000000e+00,   6.75200000e+03,   3.73000000e+01, ...,\n",
       "           3.34000000e+02,   6.00000000e+01,   3.20000000e+01],\n",
       "        [  1.00000000e+00,   2.55700000e+03,   5.68000000e+01, ...,\n",
       "           1.94000000e+02,   3.60000000e+01,   2.50000000e+01],\n",
       "        ..., \n",
       "        [  1.00000000e+00,   2.18100000e+03,   9.28000000e+01, ...,\n",
       "           7.00000000e+01,   8.00000000e+00,   0.00000000e+00],\n",
       "        [  1.00000000e+00,   1.95800000e+03,   2.79000000e+01, ...,\n",
       "           3.73000000e+02,   2.70000000e+01,   1.90000000e+01],\n",
       "        [  1.00000000e+00,   3.64000000e+03,   3.80000000e+00, ...,\n",
       "           3.31000000e+02,   1.70000000e+01,   8.00000000e+00]]),\n",
       " 1: array([[  1.00000000e+00,   4.18900000e+03,   5.32000000e+01, ...,\n",
       "           3.85000000e+02,   3.75000000e+01,   2.97000000e+01],\n",
       "        [  1.00000000e+00,   7.08300000e+03,   4.64000000e+01, ...,\n",
       "           4.17000000e+02,   4.89000000e+01,   3.28000000e+01],\n",
       "        [  1.00000000e+00,   2.50200000e+03,   4.66000000e+01, ...,\n",
       "           1.29000000e+02,   5.05000000e+01,   3.06000000e+01],\n",
       "        ..., \n",
       "        [  1.00000000e+00,   5.59400000e+03,   5.38000000e+01, ...,\n",
       "           7.20000000e+01,   2.60000000e+00,   8.80000000e+00],\n",
       "        [  1.00000000e+00,   6.71300000e+03,   3.76000000e+01, ...,\n",
       "           2.85000000e+02,   3.63000000e+01,   2.89000000e+01],\n",
       "        [  1.00000000e+00,   2.64300000e+03,   3.18000000e+01, ...,\n",
       "           3.42000000e+02,   3.42000000e+01,   2.63000000e+01]])}"
      ]
     },
     "execution_count": 30,
     "metadata": {},
     "output_type": "execute_result"
    }
   ],
   "source": [
    "#dictionary with X values\n",
    "reg.bigX"
   ]
  },
  {
   "cell_type": "code",
   "execution_count": 43,
   "metadata": {
    "collapsed": false
   },
   "outputs": [
    {
     "data": {
      "text/plain": [
       "{0: array([[  8.61139038e-01],\n",
       "        [ -7.40032534e-06],\n",
       "        [ -2.63921026e-03],\n",
       "        [  8.43374739e-04],\n",
       "        [ -1.39219853e-03],\n",
       "        [  2.95224921e-04],\n",
       "        [  1.80902975e-03],\n",
       "        [  1.85262322e-03]]), 1: array([[  5.97078989e-01],\n",
       "        [  4.08558489e-06],\n",
       "        [ -6.22160633e-05],\n",
       "        [  3.60964127e-03],\n",
       "        [ -3.03707992e-04],\n",
       "        [  1.64175062e-04],\n",
       "        [  1.68927103e-03],\n",
       "        [  5.12033215e-04]])}"
      ]
     },
     "execution_count": 43,
     "metadata": {},
     "output_type": "execute_result"
    }
   ],
   "source": [
    "#dictionary with SUR regression coefficients for each equation\n",
    "coeffs = reg.bSUR\n",
    "coeffs"
   ]
  },
  {
   "cell_type": "code",
   "execution_count": 47,
   "metadata": {
    "collapsed": false
   },
   "outputs": [
    {
     "data": {
      "text/plain": [
       "dict"
      ]
     },
     "execution_count": 47,
     "metadata": {},
     "output_type": "execute_result"
    }
   ],
   "source": [
    "type(coeffs)"
   ]
  },
  {
   "cell_type": "code",
   "execution_count": 50,
   "metadata": {
    "collapsed": true
   },
   "outputs": [],
   "source": [
    "\n",
    "import numpy as np"
   ]
  },
  {
   "cell_type": "code",
   "execution_count": 53,
   "metadata": {
    "collapsed": false
   },
   "outputs": [],
   "source": [
    "dicts=coeffs\n",
    "n_dicts = len(coeffs.keys())\n",
    "mat = np.vstack((dicts[t] for t in range(n_dicts)))"
   ]
  },
  {
   "cell_type": "code",
   "execution_count": 56,
   "metadata": {
    "collapsed": false
   },
   "outputs": [
    {
     "data": {
      "text/plain": [
       "array([[  8.61139038e-01],\n",
       "       [ -7.40032534e-06],\n",
       "       [ -2.63921026e-03],\n",
       "       [  8.43374739e-04],\n",
       "       [ -1.39219853e-03],\n",
       "       [  2.95224921e-04],\n",
       "       [  1.80902975e-03],\n",
       "       [  1.85262322e-03],\n",
       "       [  5.97078989e-01],\n",
       "       [  4.08558489e-06],\n",
       "       [ -6.22160633e-05],\n",
       "       [  3.60964127e-03],\n",
       "       [ -3.03707992e-04],\n",
       "       [  1.64175062e-04],\n",
       "       [  1.68927103e-03],\n",
       "       [  5.12033215e-04]])"
      ]
     },
     "execution_count": 56,
     "metadata": {},
     "output_type": "execute_result"
    }
   ],
   "source": [
    "mat"
   ]
  },
  {
   "cell_type": "code",
   "execution_count": null,
   "metadata": {
    "collapsed": true
   },
   "outputs": [],
   "source": [
    "SST = Sum(i=1..n) (y_i - y_bar)^2\n",
    "SSReg = Sum(i=1..n) (y_ihat - y_bar)^2\n",
    "Rsquared = SSReg/SST"
   ]
  }
 ],
 "metadata": {
  "kernelspec": {
   "display_name": "Python 2",
   "language": "python",
   "name": "python2"
  },
  "language_info": {
   "codemirror_mode": {
    "name": "ipython",
    "version": 2
   },
   "file_extension": ".py",
   "mimetype": "text/x-python",
   "name": "python",
   "nbconvert_exporter": "python",
   "pygments_lexer": "ipython2",
   "version": "2.7.11"
  }
 },
 "nbformat": 4,
 "nbformat_minor": 0
}
