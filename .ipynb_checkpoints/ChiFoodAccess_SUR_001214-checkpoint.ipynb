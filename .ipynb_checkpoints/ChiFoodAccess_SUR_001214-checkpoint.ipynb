{
 "cells": [
  {
   "cell_type": "markdown",
   "metadata": {},
   "source": [
    "# Food Acess Change in Chicago from 2011 to 2014\n",
    "\n",
    "See SUR documentation here: http://pysal.readthedocs.io/en/latest/library/spreg/sur.html\n"
   ]
  },
  {
   "cell_type": "markdown",
   "metadata": {},
   "source": [
    "### Open required libraries"
   ]
  },
  {
   "cell_type": "code",
   "execution_count": 1,
   "metadata": {
    "collapsed": true
   },
   "outputs": [],
   "source": [
    "import pysal"
   ]
  },
  {
   "cell_type": "code",
   "execution_count": 2,
   "metadata": {
    "collapsed": true
   },
   "outputs": [],
   "source": [
    "import sys\n",
    "sys.path.append('/Users/Masia/Code/spreg')"
   ]
  },
  {
   "cell_type": "code",
   "execution_count": 3,
   "metadata": {
    "collapsed": false
   },
   "outputs": [],
   "source": [
    "from sur import SUR\n",
    "from sur_utils import sur_dictxy,sur_dict2mat,sur_mat2dict,sur_corr,sur_crossprod,sur_est,sur_resids,sur_predict,check_k\n"
   ]
  },
  {
   "cell_type": "code",
   "execution_count": 4,
   "metadata": {
    "collapsed": false
   },
   "outputs": [],
   "source": [
    "import numpy as np\n",
    "import numpy.linalg as la\n",
    "import scipy.stats as stats\n",
    "import summary_output as SUMMARY\n",
    "from diagnostics_sur import sur_setp,sur_lrtest,sur_lmtest,surLMe,surLMlag,sur_chow"
   ]
  },
  {
   "cell_type": "markdown",
   "metadata": {},
   "source": [
    "### Open DBF file for Analysis"
   ]
  },
  {
   "cell_type": "code",
   "execution_count": 5,
   "metadata": {
    "collapsed": true
   },
   "outputs": [],
   "source": [
    "db = pysal.open(\"/Users/Masia/Desktop/FA_clip/ACS_2010-2014_FoodAccess.dbf\")"
   ]
  },
  {
   "cell_type": "markdown",
   "metadata": {},
   "source": [
    "### Build Spatial Weight"
   ]
  },
  {
   "cell_type": "code",
   "execution_count": 6,
   "metadata": {
    "collapsed": false
   },
   "outputs": [],
   "source": [
    "## Queen-Contiguity Spatial Weight generated\n",
    "w = pysal.queen_from_shapefile(\"/Users/Masia/Desktop/FA_clip/ACS_2010-2014_FoodAccess.shp\")\n",
    "w.transform='r'"
   ]
  },
  {
   "cell_type": "markdown",
   "metadata": {},
   "source": [
    "### Generate List of Variables"
   ]
  },
  {
   "cell_type": "code",
   "execution_count": 7,
   "metadata": {
    "collapsed": false
   },
   "outputs": [],
   "source": [
    "## Census Tract Average Network Distance Miles to Supermarkets \n",
    "y_var = ['MEANMI_07','MEANMI_11','MEANMI_14']\n",
    "\n",
    "## Potential explanatory variables: Population, White%, Black%, Hispanic$, Unemployed,\n",
    "## Childhood Poverty%, Overall Poverty%\n",
    "x_var=[['Wht10P','Blk10P','Hisp10P','CarC10P','CTA10P','ChldPvt10','PerCap10'],\n",
    "       ['Wht12P','Blk12P','Hisp12P','CarC12P','CTA12P','ChldPvt12','PerCap12'],\n",
    "       ['Wht14P','Blk14P','Hisp14P','CarC14P','CTA14P','ChldPvt14','PerCap14']]"
   ]
  },
  {
   "cell_type": "markdown",
   "metadata": {},
   "source": [
    "### Build Variable Dictionaries"
   ]
  },
  {
   "cell_type": "code",
   "execution_count": 8,
   "metadata": {
    "collapsed": false
   },
   "outputs": [],
   "source": [
    "#bigy,bigX,bigyvars,bigXvars = pysal.spreg.sur_utils.sur_dictxy(db,y_var,x_var)\n",
    "bigy,bigX,bigyvars,bigXvars = sur_dictxy(db,y_var,x_var)"
   ]
  },
  {
   "cell_type": "markdown",
   "metadata": {},
   "source": [
    "### Run SUR Regressions"
   ]
  },
  {
   "cell_type": "code",
   "execution_count": 9,
   "metadata": {
    "collapsed": false
   },
   "outputs": [
    {
     "name": "stdout",
     "output_type": "stream",
     "text": [
      "REGRESSION\n",
      "----------\n",
      "SUMMARY OF OUTPUT: SEEMINGLY UNRELATED REGRESSIONS (SUR)\n",
      "--------------------------------------------------------\n",
      "Data set            :         nat\n",
      "Weights matrix      :<pysal.weights.weights.W object at 0x1152cc5d0>\n",
      "Number of Equations :           3                Number of Observations:         791\n",
      "Log likelihood (SUR):    -704.364                Number of Iterations  :           1\n",
      "----------\n",
      "\n",
      "SUMMARY OF EQUATION 1\n",
      "---------------------\n",
      "Dependent Variable  :   MEANMI_07                Number of Variables   :           8\n",
      "Mean dependent var  :      0.8872                Degrees of Freedom    :         783\n",
      "S.D. dependent var  :      0.4940\n",
      "\n",
      "------------------------------------------------------------------------------------\n",
      "            Variable     Coefficient       Std.Error     z-Statistic     Probability\n",
      "------------------------------------------------------------------------------------\n",
      "          Constant_1       1.0210363       0.1475847       6.9183063       0.0000000\n",
      "              Wht10P      -0.0021123       0.0012612      -1.6748344       0.0939667\n",
      "              Blk10P       0.0017936       0.0011955       1.5003217       0.1335311\n",
      "             Hisp10P      -0.0034807       0.0009429      -3.6914723       0.0002230\n",
      "             CarC10P       0.0030282       0.0012913       2.3451022       0.0190219\n",
      "              CTA10P      -0.0013984       0.0014542      -0.9616662       0.3362173\n",
      "           ChldPvt10      -0.0007958       0.0007075      -1.1247429       0.2606980\n",
      "            PerCap10      -0.0000045       0.0000011      -3.9920695       0.0000655\n",
      "------------------------------------------------------------------------------------\n",
      "\n",
      "SUMMARY OF EQUATION 2\n",
      "---------------------\n",
      "Dependent Variable  :   MEANMI_11                Number of Variables   :           8\n",
      "Mean dependent var  :      0.8693                Degrees of Freedom    :         783\n",
      "S.D. dependent var  :      0.5411\n",
      "\n",
      "------------------------------------------------------------------------------------\n",
      "            Variable     Coefficient       Std.Error     z-Statistic     Probability\n",
      "------------------------------------------------------------------------------------\n",
      "          Constant_2       0.9806966       0.1459988       6.7171536       0.0000000\n",
      "              Wht12P      -0.0017003       0.0011706      -1.4525552       0.1463473\n",
      "              Blk12P       0.0035979       0.0011780       3.0542162       0.0022565\n",
      "             Hisp12P      -0.0013974       0.0009352      -1.4942429       0.1351121\n",
      "             CarC12P       0.0009194       0.0012618       0.7286436       0.4662197\n",
      "              CTA12P      -0.0033302       0.0015017      -2.2176163       0.0265810\n",
      "           ChldPvt12       0.0001677       0.0007534       0.2225533       0.8238832\n",
      "            PerCap12      -0.0000034       0.0000012      -2.8180714       0.0048313\n",
      "------------------------------------------------------------------------------------\n",
      "\n",
      "SUMMARY OF EQUATION 3\n",
      "---------------------\n",
      "Dependent Variable  :   MEANMI_14                Number of Variables   :           8\n",
      "Mean dependent var  :      0.8202                Degrees of Freedom    :         783\n",
      "S.D. dependent var  :      0.4733\n",
      "\n",
      "------------------------------------------------------------------------------------\n",
      "            Variable     Coefficient       Std.Error     z-Statistic     Probability\n",
      "------------------------------------------------------------------------------------\n",
      "          Constant_3       0.4302530       0.1366558       3.1484417       0.0016414\n",
      "              Wht14P       0.0004354       0.0011236       0.3875039       0.6983832\n",
      "              Blk14P       0.0060252       0.0011286       5.3386328       0.0000001\n",
      "             Hisp14P       0.0005011       0.0008363       0.5991555       0.5490692\n",
      "             CarC14P       0.0044593       0.0012457       3.5796097       0.0003441\n",
      "              CTA14P      -0.0002963       0.0014774      -0.2005501       0.8410504\n",
      "           ChldPvt14      -0.0011066       0.0007465      -1.4822825       0.1382651\n",
      "            PerCap14      -0.0000018       0.0000011      -1.5453659       0.1222578\n",
      "------------------------------------------------------------------------------------\n",
      "\n",
      "\n",
      "REGRESSION DIAGNOSTICS\n",
      "                                     TEST         DF       VALUE           PROB\n",
      "                         LM test on Sigma         3     1177.398           0.0000\n",
      "                         LR test on Sigma         3     1331.860           0.0000\n",
      "\n",
      "OTHER DIAGNOSTICS - CHOW TEST\n",
      "                                VARIABLES         DF       VALUE           PROB\n",
      "       Constant_1, Constant_2, Constant_3         2       19.820           0.0000\n",
      "                   Wht10P, Wht12P, Wht14P         2        4.724           0.0942\n",
      "                   Blk10P, Blk12P, Blk14P         2       11.683           0.0029\n",
      "                Hisp10P, Hisp12P, Hisp14P         2       19.512           0.0001\n",
      "                CarC10P, CarC12P, CarC14P         2        9.171           0.0102\n",
      "                   CTA10P, CTA12P, CTA14P         2        4.875           0.0874\n",
      "          ChldPvt10, ChldPvt12, ChldPvt14         2        3.236           0.1983\n",
      "             PerCap10, PerCap12, PerCap14         2        5.435           0.0661\n",
      "\n",
      "DIAGNOSTICS FOR SPATIAL DEPENDENCE\n",
      "TEST                              DF       VALUE           PROB\n",
      "Lagrange Multiplier (error)       3        3065.347        0.0000\n",
      "\n",
      "ERROR CORRELATION MATRIX\n",
      "  EQUATION 1  EQUATION 2  EQUATION 3\n",
      "    1.000000    0.781784    0.598316\n",
      "    0.781784    1.000000    0.720641\n",
      "    0.598316    0.720641    1.000000\n",
      "================================ END OF REPORT =====================================\n"
     ]
    }
   ],
   "source": [
    "#reg = pysal.spreg.sur.SUR(bigy,bigX,w=w,name_bigy=bigyvars,name_bigX=bigXvars,\n",
    "#                          spat_diag=True,name_ds=\"nat\",name_w=w)\n",
    "\n",
    "reg = pysal.spreg.sur.SUR(bigy,bigX,w=w,name_bigy=bigyvars,name_bigX=bigXvars,\n",
    "                          spat_diag=True,name_ds=\"nat\",name_w=w)\n",
    "\n",
    "print(reg.summary)"
   ]
  },
  {
   "cell_type": "markdown",
   "metadata": {},
   "source": [
    "## Y Observed"
   ]
  },
  {
   "cell_type": "code",
   "execution_count": 10,
   "metadata": {
    "collapsed": false
   },
   "outputs": [],
   "source": [
    "#dictionary with Y values\n",
    "#reg.bigy"
   ]
  },
  {
   "cell_type": "code",
   "execution_count": 11,
   "metadata": {
    "collapsed": true
   },
   "outputs": [],
   "source": [
    "# Stack columns of the dictionary\n",
    "d = reg.bigy\n",
    "y_obs = np.concatenate(list(d.values()))"
   ]
  },
  {
   "cell_type": "code",
   "execution_count": 12,
   "metadata": {
    "collapsed": false
   },
   "outputs": [
    {
     "data": {
      "text/plain": [
       "2373"
      ]
     },
     "execution_count": 12,
     "metadata": {},
     "output_type": "execute_result"
    }
   ],
   "source": [
    "len(y_obs)"
   ]
  },
  {
   "cell_type": "code",
   "execution_count": 13,
   "metadata": {
    "collapsed": false
   },
   "outputs": [
    {
     "data": {
      "text/plain": [
       "numpy.ndarray"
      ]
     },
     "execution_count": 13,
     "metadata": {},
     "output_type": "execute_result"
    }
   ],
   "source": [
    "type(y_obs)"
   ]
  },
  {
   "cell_type": "code",
   "execution_count": 14,
   "metadata": {
    "collapsed": false
   },
   "outputs": [
    {
     "data": {
      "text/plain": [
       "(2373, 1)"
      ]
     },
     "execution_count": 14,
     "metadata": {},
     "output_type": "execute_result"
    }
   ],
   "source": [
    "y_obs.shape"
   ]
  },
  {
   "cell_type": "code",
   "execution_count": 15,
   "metadata": {
    "collapsed": false
   },
   "outputs": [
    {
     "data": {
      "text/plain": [
       "array([[ 0.4336],\n",
       "       [ 0.3749],\n",
       "       [ 0.2583],\n",
       "       ..., \n",
       "       [ 0.4936],\n",
       "       [ 0.6822],\n",
       "       [ 1.4685]])"
      ]
     },
     "execution_count": 15,
     "metadata": {},
     "output_type": "execute_result"
    }
   ],
   "source": [
    "y_obs"
   ]
  },
  {
   "cell_type": "markdown",
   "metadata": {},
   "source": [
    "## Y Predicted"
   ]
  },
  {
   "cell_type": "code",
   "execution_count": 16,
   "metadata": {
    "collapsed": false
   },
   "outputs": [],
   "source": [
    "# Generate matrix for predicted Y\n",
    "bSUR,varb,sig = sur_est(reg.bigXX,reg.bigXy,reg.olsE,reg.bigK)\n",
    "bigYP = sur_predict(bigy,bigX,bSUR)"
   ]
  },
  {
   "cell_type": "code",
   "execution_count": 17,
   "metadata": {
    "collapsed": false
   },
   "outputs": [
    {
     "data": {
      "text/plain": [
       "numpy.ndarray"
      ]
     },
     "execution_count": 17,
     "metadata": {},
     "output_type": "execute_result"
    }
   ],
   "source": [
    "type(bigYP)"
   ]
  },
  {
   "cell_type": "code",
   "execution_count": 18,
   "metadata": {
    "collapsed": true
   },
   "outputs": [],
   "source": [
    "y_exp = np.hstack(bigYP)"
   ]
  },
  {
   "cell_type": "code",
   "execution_count": 19,
   "metadata": {
    "collapsed": false
   },
   "outputs": [
    {
     "data": {
      "text/plain": [
       "2373"
      ]
     },
     "execution_count": 19,
     "metadata": {},
     "output_type": "execute_result"
    }
   ],
   "source": [
    "len(y_exp)"
   ]
  },
  {
   "cell_type": "code",
   "execution_count": 20,
   "metadata": {
    "collapsed": false
   },
   "outputs": [
    {
     "data": {
      "text/plain": [
       "numpy.ndarray"
      ]
     },
     "execution_count": 20,
     "metadata": {},
     "output_type": "execute_result"
    }
   ],
   "source": [
    "type(y_exp)"
   ]
  },
  {
   "cell_type": "code",
   "execution_count": 21,
   "metadata": {
    "collapsed": false
   },
   "outputs": [
    {
     "data": {
      "text/plain": [
       "(2373,)"
      ]
     },
     "execution_count": 21,
     "metadata": {},
     "output_type": "execute_result"
    }
   ],
   "source": [
    "y_exp.shape"
   ]
  },
  {
   "cell_type": "code",
   "execution_count": 22,
   "metadata": {
    "collapsed": true
   },
   "outputs": [],
   "source": [
    "y_exp.resize((2373, 1))"
   ]
  },
  {
   "cell_type": "code",
   "execution_count": 23,
   "metadata": {
    "collapsed": false
   },
   "outputs": [
    {
     "data": {
      "text/plain": [
       "(2373, 1)"
      ]
     },
     "execution_count": 23,
     "metadata": {},
     "output_type": "execute_result"
    }
   ],
   "source": [
    "y_exp.shape"
   ]
  },
  {
   "cell_type": "code",
   "execution_count": 24,
   "metadata": {
    "collapsed": false
   },
   "outputs": [
    {
     "data": {
      "text/plain": [
       "array([[ 0.92074836],\n",
       "       [ 0.90619948],\n",
       "       [ 0.77495431],\n",
       "       ..., \n",
       "       [ 1.17839861],\n",
       "       [ 1.1451719 ],\n",
       "       [ 1.13431904]])"
      ]
     },
     "execution_count": 24,
     "metadata": {},
     "output_type": "execute_result"
    }
   ],
   "source": [
    "y_exp"
   ]
  },
  {
   "cell_type": "markdown",
   "metadata": {},
   "source": [
    "## Plot Observed vs Predicted Y"
   ]
  },
  {
   "cell_type": "code",
   "execution_count": 25,
   "metadata": {
    "collapsed": true
   },
   "outputs": [],
   "source": [
    "import matplotlib.pyplot as plt\n",
    "%matplotlib inline"
   ]
  },
  {
   "cell_type": "code",
   "execution_count": 28,
   "metadata": {
    "collapsed": false
   },
   "outputs": [
    {
     "data": {
      "image/png": "[encoded data removed]",
      "text/plain": [
       "<matplotlib.figure.Figure at 0x11cee9290>"
      ]
     },
     "metadata": {},
     "output_type": "display_data"
    }
   ],
   "source": [
    "#custom \n",
    "fig = plt.figure(figsize=(9,9))\n",
    "plt.scatter(y_obs,y_exp, c='k', s=40, alpha=.6)\n",
    "\n",
    "plt.show()"
   ]
  },
  {
   "cell_type": "markdown",
   "metadata": {},
   "source": [
    "## Calculate Crude R Squared "
   ]
  },
  {
   "cell_type": "code",
   "execution_count": 157,
   "metadata": {
    "collapsed": false
   },
   "outputs": [],
   "source": [
    "cor = stats.pearsonr(y_obs,y_exp)"
   ]
  },
  {
   "cell_type": "code",
   "execution_count": 158,
   "metadata": {
    "collapsed": false
   },
   "outputs": [
    {
     "data": {
      "text/plain": [
       "(array([-0.02194721]), array([ 0.28520957]))"
      ]
     },
     "execution_count": 158,
     "metadata": {},
     "output_type": "execute_result"
    }
   ],
   "source": [
    "cor"
   ]
  },
  {
   "cell_type": "code",
   "execution_count": 30,
   "metadata": {
    "collapsed": false
   },
   "outputs": [],
   "source": [
    "Rsquare = 0.28520957**2"
   ]
  },
  {
   "cell_type": "code",
   "execution_count": 31,
   "metadata": {
    "collapsed": false
   },
   "outputs": [
    {
     "data": {
      "text/plain": [
       "0.08134449881958492"
      ]
     },
     "execution_count": 31,
     "metadata": {},
     "output_type": "execute_result"
    }
   ],
   "source": [
    "Rsquare"
   ]
  }
 ],
 "metadata": {
  "kernelspec": {
   "display_name": "Python 2",
   "language": "python",
   "name": "python2"
  },
  "language_info": {
   "codemirror_mode": {
    "name": "ipython",
    "version": 2
   },
   "file_extension": ".py",
   "mimetype": "text/x-python",
   "name": "python",
   "nbconvert_exporter": "python",
   "pygments_lexer": "ipython2",
   "version": "2.7.11"
  }
 },
 "nbformat": 4,
 "nbformat_minor": 0
}
