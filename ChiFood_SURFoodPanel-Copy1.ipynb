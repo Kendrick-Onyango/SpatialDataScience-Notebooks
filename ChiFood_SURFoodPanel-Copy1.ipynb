{
 "cells": [
  {
   "cell_type": "markdown",
   "metadata": {},
   "source": [
    "# SUR Model: Chicago Food Access Pre/Post Great Recession \n",
    "\n",
    "See SUR documentation here: http://pysal.readthedocs.io/en/latest/library/spreg/sur.html\n"
   ]
  },
  {
   "cell_type": "markdown",
   "metadata": {},
   "source": [
    "### Open required libraries"
   ]
  },
  {
   "cell_type": "code",
   "execution_count": 1,
   "metadata": {
    "collapsed": true
   },
   "outputs": [],
   "source": [
    "import pysal"
   ]
  },
  {
   "cell_type": "code",
   "execution_count": 2,
   "metadata": {
    "collapsed": true
   },
   "outputs": [],
   "source": [
    "import sys\n",
    "sys.path.append('/Users/Masia/Code/spreg')"
   ]
  },
  {
   "cell_type": "code",
   "execution_count": 15,
   "metadata": {
    "collapsed": false
   },
   "outputs": [],
   "source": [
    "from sur import SUR\n",
    "from sur import BaseThreeSLS\n",
    "from diagnostics_sur import sur_setp, sur_chow, sur_joinrho\n",
    "from sur_utils import check_k\n",
    "from sur_utils import sur_dictxy,sur_dict2mat,sur_mat2dict,sur_corr,sur_crossprod,sur_est,sur_resids,sur_predict,check_k"
   ]
  },
  {
   "cell_type": "code",
   "execution_count": 20,
   "metadata": {
    "collapsed": false
   },
   "outputs": [],
   "source": [
    "from sur_lag import SURlagIV\n"
   ]
  },
  {
   "cell_type": "code",
   "execution_count": 4,
   "metadata": {
    "collapsed": false
   },
   "outputs": [],
   "source": [
    "import numpy as np\n",
    "import numpy.linalg as la\n",
    "import scipy.stats as stats\n",
    "import summary_output as SUMMARY\n",
    "from diagnostics_sur import sur_setp,sur_lrtest,sur_lmtest,surLMe,surLMlag,sur_chow"
   ]
  },
  {
   "cell_type": "code",
   "execution_count": 44,
   "metadata": {
    "collapsed": false
   },
   "outputs": [],
   "source": [
    "import numpy as np\n",
    "import pysal\n",
    "import numpy.linalg as la\n",
    "import scipy.stats as stats\n",
    "import summary_output as SUMMARY\n",
    "import user_output as USER\n",
    "from scipy.sparse.linalg import splu as SuperLU\n",
    "from scipy.optimize import minimize_scalar, minimize\n",
    "from scipy import sparse as sp\n",
    "from sur_utils import sur_dictxy,sur_corr,sur_dict2mat,\\\n",
    "               sur_crossprod,sur_est,sur_resids,filter_dict,\\\n",
    "               check_k\n",
    "from sur import BaseSUR\n",
    "from diagnostics_sur import sur_setp, lam_setp, sur_chow\n",
    "from regimes import buildR,wald_test"
   ]
  },
  {
   "cell_type": "code",
   "execution_count": 46,
   "metadata": {
    "collapsed": false
   },
   "outputs": [],
   "source": [
    "from sur_error import SURerrorML\n"
   ]
  },
  {
   "cell_type": "markdown",
   "metadata": {},
   "source": [
    "### Open DBF file for Analysis"
   ]
  },
  {
   "cell_type": "code",
   "execution_count": 5,
   "metadata": {
    "collapsed": true
   },
   "outputs": [],
   "source": [
    "db = pysal.open(\"/Users/Masia/Desktop/FinalChiCluster.dbf\")"
   ]
  },
  {
   "cell_type": "markdown",
   "metadata": {},
   "source": [
    "### Build Spatial Weight"
   ]
  },
  {
   "cell_type": "code",
   "execution_count": 6,
   "metadata": {
    "collapsed": false
   },
   "outputs": [],
   "source": [
    "## Queen-Contiguity Spatial Weight generated\n",
    "w = pysal.queen_from_shapefile(\"/Users/Masia/Desktop/FinalChiCluster.shp\")\n",
    "w.transform='r'"
   ]
  },
  {
   "cell_type": "markdown",
   "metadata": {},
   "source": [
    "### Generate List of Variables"
   ]
  },
  {
   "cell_type": "code",
   "execution_count": 7,
   "metadata": {
    "collapsed": false
   },
   "outputs": [],
   "source": [
    "## Log (Network Distance Miles to Supermarkets / Population of Tract)\n",
    "y_var = ['FA07RT','FA11RT']\n",
    "\n",
    "## Covariates: Log(PerCap Income), Dummy Variables for Race, Excess Risk for Foreclosure as Treatment)\n",
    "x_var=[['LINC10','BlackMaj10','WHITEMAJ10','HispMaj10'],\n",
    "       ['LINC12','BLKMAJ12','WHITEMAJ12','HISPMAJ12']]"
   ]
  },
  {
   "cell_type": "markdown",
   "metadata": {},
   "source": [
    "### Build Variable Dictionaries"
   ]
  },
  {
   "cell_type": "code",
   "execution_count": 8,
   "metadata": {
    "collapsed": false
   },
   "outputs": [],
   "source": [
    "#bigy,bigX,bigyvars,bigXvars = pysal.spreg.sur_utils.sur_dictxy(db,y_var,x_var)\n",
    "bigy,bigX,bigyvars,bigXvars = sur_dictxy(db,y_var,x_var)"
   ]
  },
  {
   "cell_type": "markdown",
   "metadata": {},
   "source": [
    "### Run SUR Regressions"
   ]
  },
  {
   "cell_type": "code",
   "execution_count": 9,
   "metadata": {
    "collapsed": false
   },
   "outputs": [
    {
     "name": "stdout",
     "output_type": "stream",
     "text": [
      "REGRESSION\n",
      "----------\n",
      "SUMMARY OF OUTPUT: SEEMINGLY UNRELATED REGRESSIONS (SUR)\n",
      "--------------------------------------------------------\n",
      "Data set            :         nat\n",
      "Weights matrix      :<pysal.weights.weights.W object at 0x1152c3550>\n",
      "Number of Equations :           2                Number of Observations:         791\n",
      "Log likelihood (SUR):     258.173                Number of Iterations  :           1\n",
      "----------\n",
      "\n",
      "SUMMARY OF EQUATION 1\n",
      "---------------------\n",
      "Dependent Variable  :      FA07RT                Number of Variables   :           5\n",
      "Mean dependent var  :     -3.5984                Degrees of Freedom    :         786\n",
      "S.D. dependent var  :      0.3653\n",
      "\n",
      "------------------------------------------------------------------------------------\n",
      "            Variable     Coefficient       Std.Error     z-Statistic     Probability\n",
      "------------------------------------------------------------------------------------\n",
      "          Constant_1      -3.4323307       0.2140851     -16.0325536       0.0000000\n",
      "              LINC10      -0.0582129       0.0478475      -1.2166348       0.2237432\n",
      "          BlackMaj10       0.2672456       0.0282961       9.4446104       0.0000000\n",
      "          WHITEMAJ10      -0.0018917       0.0181832      -0.1040353       0.9171413\n",
      "           HispMaj10      -0.0494305       0.0265065      -1.8648441       0.0622033\n",
      "------------------------------------------------------------------------------------\n",
      "\n",
      "SUMMARY OF EQUATION 2\n",
      "---------------------\n",
      "Dependent Variable  :      FA11RT                Number of Variables   :           5\n",
      "Mean dependent var  :     -3.6129                Degrees of Freedom    :         786\n",
      "S.D. dependent var  :      0.3674\n",
      "\n",
      "------------------------------------------------------------------------------------\n",
      "            Variable     Coefficient       Std.Error     z-Statistic     Probability\n",
      "------------------------------------------------------------------------------------\n",
      "          Constant_2      -3.4606095       0.2121730     -16.3103176       0.0000000\n",
      "              LINC12      -0.0526474       0.0473258      -1.1124452       0.2659468\n",
      "            BLKMAJ12       0.2738885       0.0279770       9.7897725       0.0000000\n",
      "          WHITEMAJ12      -0.0459342       0.0182266      -2.5201765       0.0117296\n",
      "           HISPMAJ12       0.0012922       0.0259655       0.0497668       0.9603082\n",
      "------------------------------------------------------------------------------------\n",
      "\n",
      "\n",
      "REGRESSION DIAGNOSTICS\n",
      "                                     TEST         DF       VALUE           PROB\n",
      "                         LM test on Sigma         1      655.830           0.0000\n",
      "                         LR test on Sigma         1     1397.511           0.0000\n",
      "\n",
      "OTHER DIAGNOSTICS - CHOW TEST\n",
      "                                VARIABLES         DF       VALUE           PROB\n",
      "                   Constant_1, Constant_2         1        0.050           0.8235\n",
      "                           LINC10, LINC12         1        0.039           0.8435\n",
      "                     BlackMaj10, BLKMAJ12         1        0.109           0.7408\n",
      "                   WHITEMAJ10, WHITEMAJ12         1        6.216           0.0127\n",
      "                     HispMaj10, HISPMAJ12         1        8.058           0.0045\n",
      "\n",
      "DIAGNOSTICS FOR SPATIAL DEPENDENCE\n",
      "TEST                              DF       VALUE           PROB\n",
      "Lagrange Multiplier (error)       2         877.567        0.0000\n",
      "\n",
      "ERROR CORRELATION MATRIX\n",
      "  EQUATION 1  EQUATION 2\n",
      "    1.000000    0.910558\n",
      "    0.910558    1.000000\n",
      "================================ END OF REPORT =====================================\n"
     ]
    }
   ],
   "source": [
    "#reg = pysal.spreg.sur.SUR(bigy,bigX,w=w,name_bigy=bigyvars,name_bigX=bigXvars,\n",
    "#                          spat_diag=True,name_ds=\"nat\",name_w=w)\n",
    "\n",
    "reg = pysal.spreg.sur.SUR(bigy,bigX,w=w,name_bigy=bigyvars,name_bigX=bigXvars,\n",
    "                          spat_diag=True,name_ds=\"nat\",name_w=w)\n",
    "\n",
    "print(reg.summary)"
   ]
  },
  {
   "cell_type": "code",
   "execution_count": 22,
   "metadata": {
    "collapsed": false
   },
   "outputs": [
    {
     "name": "stdout",
     "output_type": "stream",
     "text": [
      "REGRESSION\n",
      "----------\n",
      "SUMMARY OF OUTPUT: SEEMINGLY UNRELATED REGRESSIONS (SUR) - SPATIAL LAG MODEL\n",
      "----------------------------------------------------------------------------\n",
      "Data set            :         nat\n",
      "Weights matrix      :<pysal.weights.weights.W object at 0x1152c3550>\n",
      "Number of Equations :           2                Number of Observations:         791\n",
      "----------\n",
      "\n",
      "SUMMARY OF EQUATION 1\n",
      "---------------------\n",
      "Dependent Variable  :      FA07RT                Number of Variables   :           6\n",
      "Mean dependent var  :     -3.5984                Degrees of Freedom    :         785\n",
      "S.D. dependent var  :      0.3653\n",
      "\n",
      "------------------------------------------------------------------------------------\n",
      "            Variable     Coefficient       Std.Error     z-Statistic     Probability\n",
      "------------------------------------------------------------------------------------\n",
      "          Constant_1      -1.4757706       0.2948965      -5.0043677       0.0000006\n",
      "              LINC10       0.1072166       0.0403787       2.6552727       0.0079244\n",
      "          BlackMaj10       0.1479490       0.0257239       5.7514302       0.0000000\n",
      "          WHITEMAJ10       0.0019775       0.0134720       0.1467830       0.8833033\n",
      "           HispMaj10       0.0314926       0.0219976       1.4316383       0.1522474\n",
      "            W_FA07RT       0.7347310       0.0882715       8.3235387       0.0000000\n",
      "------------------------------------------------------------------------------------\n",
      "Instrumented: W_FA07RT\n",
      "Instruments: W_BlackMaj10, W_HispMaj10, W_LINC10, W_WHITEMAJ10\n",
      "\n",
      "SUMMARY OF EQUATION 2\n",
      "---------------------\n",
      "Dependent Variable  :      FA11RT                Number of Variables   :           6\n",
      "Mean dependent var  :     -3.6129                Degrees of Freedom    :         785\n",
      "S.D. dependent var  :      0.3674\n",
      "\n",
      "------------------------------------------------------------------------------------\n",
      "            Variable     Coefficient       Std.Error     z-Statistic     Probability\n",
      "------------------------------------------------------------------------------------\n",
      "          Constant_2      -1.2891848       0.3015839      -4.2747131       0.0000191\n",
      "              LINC12       0.0915406       0.0392847       2.3301875       0.0197962\n",
      "            BLKMAJ12       0.1465530       0.0259712       5.6428994       0.0000000\n",
      "          WHITEMAJ12       0.0104758       0.0149152       0.7023553       0.4824576\n",
      "           HISPMAJ12       0.0467191       0.0201722       2.3160183       0.0205573\n",
      "            W_FA11RT       0.7704155       0.0880413       8.7506194       0.0000000\n",
      "------------------------------------------------------------------------------------\n",
      "Instrumented: W_FA11RT\n",
      "Instruments: W_BLKMAJ12, W_HISPMAJ12, W_LINC12, W_WHITEMAJ12\n",
      "\n",
      "\n",
      "REGRESSION DIAGNOSTICS\n",
      "                                     TEST         DF       VALUE           PROB\n",
      "                 Joint significance (rho)         2       81.373           0.0000\n",
      "\n",
      "OTHER DIAGNOSTICS - CHOW TEST\n",
      "                                VARIABLES         DF       VALUE           PROB\n",
      "                   Constant_1, Constant_2         1        1.045           0.3067\n",
      "                           LINC10, LINC12         1        0.449           0.5026\n",
      "                     BlackMaj10, BLKMAJ12         1        0.005           0.9412\n",
      "                   WHITEMAJ10, WHITEMAJ12         1        0.353           0.5521\n",
      "                     HispMaj10, HISPMAJ12         1        1.053           0.3048\n",
      "                       W_FA07RT, W_FA11RT         1        0.413           0.5206\n",
      "\n",
      "ERROR CORRELATION MATRIX\n",
      "  EQUATION 1  EQUATION 2\n",
      "    1.000000    0.924125\n",
      "    0.924125    1.000000\n",
      "================================ END OF REPORT =====================================\n"
     ]
    }
   ],
   "source": [
    "SSUR = pysal.spreg.SURlagIV(bigy,bigX,w=w,name_bigy=bigyvars,name_bigX=bigXvars,\n",
    "                          spat_diag=True,name_ds=\"nat\",name_w=w,lag_q=True,)\n",
    "\n",
    "print(SSUR.summary)"
   ]
  },
  {
   "cell_type": "code",
   "execution_count": 48,
   "metadata": {
    "collapsed": false
   },
   "outputs": [
    {
     "name": "stdout",
     "output_type": "stream",
     "text": [
      "REGRESSION\n",
      "----------\n",
      "SUMMARY OF OUTPUT: SEEMINGLY UNRELATED REGRESSIONS (SUR) - SPATIAL ERROR MODEL\n",
      "------------------------------------------------------------------------------\n",
      "Data set            :         nat\n",
      "Weights matrix      :<pysal.weights.weights.W object at 0x1152c3550>\n",
      "Number of Equations :           2                Number of Observations:         791\n",
      "Log likelihood (SUR):     275.446\n",
      "Log likel. (error)  :    -153.709                Log likel. (SUR error):     642.910\n",
      "----------\n",
      "\n",
      "SUMMARY OF EQUATION 1\n",
      "---------------------\n",
      "Dependent Variable  :      FA07RT                Number of Variables   :           5\n",
      "Mean dependent var  :     -3.5984                Degrees of Freedom    :         786\n",
      "S.D. dependent var  :      0.3653\n",
      "\n",
      "------------------------------------------------------------------------------------\n",
      "            Variable     Coefficient       Std.Error     z-Statistic     Probability\n",
      "------------------------------------------------------------------------------------\n",
      "          Constant_1      -4.2084131       0.2096110     -20.0772569       0.0000000\n",
      "              LINC10       0.1348401       0.0468060       2.8808283       0.0039663\n",
      "          BlackMaj10       0.1333500       0.0260902       5.1111043       0.0000003\n",
      "          WHITEMAJ10       0.0240897       0.0130378       1.8476868       0.0646477\n",
      "           HispMaj10       0.0102960       0.0215296       0.4782265       0.6324890\n",
      "            lambda_1       0.7818076    \n",
      "------------------------------------------------------------------------------------\n",
      "\n",
      "SUMMARY OF EQUATION 2\n",
      "---------------------\n",
      "Dependent Variable  :      FA11RT                Number of Variables   :           5\n",
      "Mean dependent var  :     -3.6129                Degrees of Freedom    :         786\n",
      "S.D. dependent var  :      0.3674\n",
      "\n",
      "------------------------------------------------------------------------------------\n",
      "            Variable     Coefficient       Std.Error     z-Statistic     Probability\n",
      "------------------------------------------------------------------------------------\n",
      "          Constant_2      -4.3201371       0.2109063     -20.4836832       0.0000000\n",
      "              LINC12       0.1617381       0.0470421       3.4381529       0.0005857\n",
      "            BLKMAJ12       0.1234831       0.0257642       4.7928182       0.0000016\n",
      "          WHITEMAJ12      -0.0128533       0.0136525      -0.9414576       0.3464704\n",
      "           HISPMAJ12       0.0255358       0.0208607       1.2241093       0.2209110\n",
      "            lambda_2       0.7898418    \n",
      "------------------------------------------------------------------------------------\n",
      "\n",
      "\n",
      "REGRESSION DIAGNOSTICS\n",
      "                                     TEST         DF       VALUE           PROB\n",
      "                         LR test on Sigma         1     1593.237           0.0000\n",
      "                        LR test on lambda         2      734.927           0.0000\n",
      "\n",
      "OTHER DIAGNOSTICS - CHOW TEST\n",
      "                                VARIABLES         DF       VALUE           PROB\n",
      "                   Constant_1, Constant_2         1        0.704           0.4015\n",
      "                           LINC10, LINC12         1        0.819           0.3653\n",
      "                     BlackMaj10, BLKMAJ12         1        0.251           0.6161\n",
      "                   WHITEMAJ10, WHITEMAJ12         1        6.270           0.0123\n",
      "                     HispMaj10, HISPMAJ12         1        0.814           0.3670\n",
      "\n",
      "ERROR CORRELATION MATRIX\n",
      "  EQUATION 1  EQUATION 2\n",
      "    1.000000    0.934783\n",
      "    0.934783    1.000000\n",
      "================================ END OF REPORT =====================================\n"
     ]
    }
   ],
   "source": [
    "SSUR_Error = pysal.spreg.SURerrorML(bigy,bigX,w=w,name_bigy=bigyvars,name_bigX=bigXvars,\n",
    "                          spat_diag=True,name_ds=\"nat\",name_w=w,)\n",
    "\n",
    "print(SSUR_Error.summary)"
   ]
  },
  {
   "cell_type": "markdown",
   "metadata": {},
   "source": [
    "## Y Observed"
   ]
  },
  {
   "cell_type": "code",
   "execution_count": 12,
   "metadata": {
    "collapsed": false
   },
   "outputs": [],
   "source": [
    "#dictionary with Y values\n",
    "#reg.bigy"
   ]
  },
  {
   "cell_type": "code",
   "execution_count": 23,
   "metadata": {
    "collapsed": true
   },
   "outputs": [],
   "source": [
    "# Stack columns of the dictionary\n",
    "d = reg.bigy\n",
    "y_obs = np.concatenate(list(d.values()))"
   ]
  },
  {
   "cell_type": "code",
   "execution_count": 24,
   "metadata": {
    "collapsed": false
   },
   "outputs": [
    {
     "data": {
      "text/plain": [
       "1582"
      ]
     },
     "execution_count": 24,
     "metadata": {},
     "output_type": "execute_result"
    }
   ],
   "source": [
    "len(y_obs)"
   ]
  },
  {
   "cell_type": "code",
   "execution_count": 25,
   "metadata": {
    "collapsed": false
   },
   "outputs": [
    {
     "data": {
      "text/plain": [
       "numpy.ndarray"
      ]
     },
     "execution_count": 25,
     "metadata": {},
     "output_type": "execute_result"
    }
   ],
   "source": [
    "type(y_obs)"
   ]
  },
  {
   "cell_type": "code",
   "execution_count": 26,
   "metadata": {
    "collapsed": false
   },
   "outputs": [
    {
     "data": {
      "text/plain": [
       "(1582, 1)"
      ]
     },
     "execution_count": 26,
     "metadata": {},
     "output_type": "execute_result"
    }
   ],
   "source": [
    "y_obs.shape"
   ]
  },
  {
   "cell_type": "code",
   "execution_count": 27,
   "metadata": {
    "collapsed": false
   },
   "outputs": [
    {
     "data": {
      "text/plain": [
       "array([[-3.4277097],\n",
       "       [-3.9734022],\n",
       "       [-3.7219685],\n",
       "       ..., \n",
       "       [-3.5524868],\n",
       "       [-3.5689059],\n",
       "       [-3.7360896]])"
      ]
     },
     "execution_count": 27,
     "metadata": {},
     "output_type": "execute_result"
    }
   ],
   "source": [
    "y_obs"
   ]
  },
  {
   "cell_type": "markdown",
   "metadata": {},
   "source": [
    "## Y Predicted"
   ]
  },
  {
   "cell_type": "code",
   "execution_count": 28,
   "metadata": {
    "collapsed": false
   },
   "outputs": [],
   "source": [
    "# Generate matrix for predicted Y\n",
    "bSUR,varb,sig = sur_est(reg.bigXX,reg.bigXy,reg.olsE,reg.bigK)\n",
    "bigYP = sur_predict(bigy,bigX,bSUR)"
   ]
  },
  {
   "cell_type": "code",
   "execution_count": 29,
   "metadata": {
    "collapsed": false
   },
   "outputs": [
    {
     "data": {
      "text/plain": [
       "numpy.ndarray"
      ]
     },
     "execution_count": 29,
     "metadata": {},
     "output_type": "execute_result"
    }
   ],
   "source": [
    "type(bigYP)"
   ]
  },
  {
   "cell_type": "code",
   "execution_count": 30,
   "metadata": {
    "collapsed": true
   },
   "outputs": [],
   "source": [
    "y_exp = np.hstack(bigYP)"
   ]
  },
  {
   "cell_type": "code",
   "execution_count": 31,
   "metadata": {
    "collapsed": false
   },
   "outputs": [
    {
     "data": {
      "text/plain": [
       "1582"
      ]
     },
     "execution_count": 31,
     "metadata": {},
     "output_type": "execute_result"
    }
   ],
   "source": [
    "len(y_exp)"
   ]
  },
  {
   "cell_type": "code",
   "execution_count": 32,
   "metadata": {
    "collapsed": false
   },
   "outputs": [
    {
     "data": {
      "text/plain": [
       "numpy.ndarray"
      ]
     },
     "execution_count": 32,
     "metadata": {},
     "output_type": "execute_result"
    }
   ],
   "source": [
    "type(y_exp)"
   ]
  },
  {
   "cell_type": "code",
   "execution_count": 33,
   "metadata": {
    "collapsed": false
   },
   "outputs": [
    {
     "data": {
      "text/plain": [
       "(1582,)"
      ]
     },
     "execution_count": 33,
     "metadata": {},
     "output_type": "execute_result"
    }
   ],
   "source": [
    "y_exp.shape"
   ]
  },
  {
   "cell_type": "code",
   "execution_count": 34,
   "metadata": {
    "collapsed": true
   },
   "outputs": [],
   "source": [
    "y_exp.resize((1582, 1))"
   ]
  },
  {
   "cell_type": "code",
   "execution_count": 35,
   "metadata": {
    "collapsed": false
   },
   "outputs": [
    {
     "data": {
      "text/plain": [
       "(1582, 1)"
      ]
     },
     "execution_count": 35,
     "metadata": {},
     "output_type": "execute_result"
    }
   ],
   "source": [
    "y_exp.shape"
   ]
  },
  {
   "cell_type": "code",
   "execution_count": 36,
   "metadata": {
    "collapsed": false
   },
   "outputs": [
    {
     "data": {
      "text/plain": [
       "array([[-3.41672313],\n",
       "       [-3.40732213],\n",
       "       [-3.72425997],\n",
       "       ..., \n",
       "       [-3.40233745],\n",
       "       [-3.71780108],\n",
       "       [-3.72158331]])"
      ]
     },
     "execution_count": 36,
     "metadata": {},
     "output_type": "execute_result"
    }
   ],
   "source": [
    "y_exp"
   ]
  },
  {
   "cell_type": "markdown",
   "metadata": {},
   "source": [
    "## Plot Observed vs Predicted Y"
   ]
  },
  {
   "cell_type": "code",
   "execution_count": 37,
   "metadata": {
    "collapsed": true
   },
   "outputs": [],
   "source": [
    "import matplotlib.pyplot as plt\n",
    "%matplotlib inline"
   ]
  },
  {
   "cell_type": "code",
   "execution_count": 38,
   "metadata": {
    "collapsed": false
   },
   "outputs": [
    {
     "data": {
      "image/png": "[encoded data removed]",
      "text/plain": [
       "<matplotlib.figure.Figure at 0x115ecb810>"
      ]
     },
     "metadata": {},
     "output_type": "display_data"
    }
   ],
   "source": [
    "#custom \n",
    "fig = plt.figure(figsize=(9,9))\n",
    "plt.scatter(y_obs,y_exp, c='k', s=40, alpha=.6)\n",
    "plt.xlabel(\"Observed Y\", fontsize=20)\n",
    "plt.ylabel(\"Predicted Y\", fontsize=20)\n",
    "\n",
    "plt.show()"
   ]
  },
  {
   "cell_type": "markdown",
   "metadata": {},
   "source": [
    "## Calculate Crude R Squared "
   ]
  },
  {
   "cell_type": "code",
   "execution_count": 39,
   "metadata": {
    "collapsed": false
   },
   "outputs": [],
   "source": [
    "cor = stats.pearsonr(y_obs,y_exp)"
   ]
  },
  {
   "cell_type": "code",
   "execution_count": 40,
   "metadata": {
    "collapsed": false
   },
   "outputs": [
    {
     "data": {
      "text/plain": [
       "(array([-0.00823955]), array([ 0.74331293]))"
      ]
     },
     "execution_count": 40,
     "metadata": {},
     "output_type": "execute_result"
    }
   ],
   "source": [
    "cor"
   ]
  },
  {
   "cell_type": "code",
   "execution_count": 41,
   "metadata": {
    "collapsed": false
   },
   "outputs": [],
   "source": [
    "Rsquare = 0.74331293**2"
   ]
  },
  {
   "cell_type": "code",
   "execution_count": 42,
   "metadata": {
    "collapsed": false
   },
   "outputs": [
    {
     "data": {
      "text/plain": [
       "0.5525141119051848"
      ]
     },
     "execution_count": 42,
     "metadata": {},
     "output_type": "execute_result"
    }
   ],
   "source": [
    "Rsquare"
   ]
  },
  {
   "cell_type": "code",
   "execution_count": null,
   "metadata": {
    "collapsed": true
   },
   "outputs": [],
   "source": []
  }
 ],
 "metadata": {
  "kernelspec": {
   "display_name": "Python 2",
   "language": "python",
   "name": "python2"
  },
  "language_info": {
   "codemirror_mode": {
    "name": "ipython",
    "version": 2
   },
   "file_extension": ".py",
   "mimetype": "text/x-python",
   "name": "python",
   "nbconvert_exporter": "python",
   "pygments_lexer": "ipython2",
   "version": "2.7.11"
  }
 },
 "nbformat": 4,
 "nbformat_minor": 0
}
